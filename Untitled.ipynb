{
 "cells": [
  {
   "cell_type": "code",
   "execution_count": 4,
   "id": "b63ba8bd",
   "metadata": {},
   "outputs": [
    {
     "name": "stderr",
     "output_type": "stream",
     "text": [
      "\r",
      "[Stage 65:>                                                         (0 + 1) / 1]\r",
      "\r",
      "                                                                                \r"
     ]
    }
   ],
   "source": [
    "from pyspark.sql import SparkSession\n",
    "from pyspark.ml.recommendation import ALS\n",
    "from pyspark.sql.functions import col, expr\n",
    "import numpy as np\n",
    "\n",
    "\n",
    "# Initialize a Spark session\n",
    "spark = SparkSession.builder.appName(\"MovieRecommendation\").getOrCreate()\n",
    "\n",
    "# Modify to work with a subset of the data (e.g., 10%)\n",
    "subset_fraction = 0.1  # Adjust this fraction as needed\n",
    "\n",
    "# Load the ratings.csv file\n",
    "ratings_df = spark.read.csv(\"Data/ratings.csv\", header=True, inferSchema=True)\n",
    "\n",
    "# Take a random sample of the data\n",
    "subset_ratings_df = ratings_df.sample(subset_fraction, seed=1234)\n",
    "\n",
    "# Split the subset dataset into training and testing sets\n",
    "(train_data, test_data) = subset_ratings_df.randomSplit([0.8, 0.2], seed=1234)\n",
    "\n",
    "# Hyperparameters to tune\n",
    "rank = 10\n",
    "max_iter = 12\n",
    "reg_param = 0.1\n",
    "\n",
    "# Build the ALS model with hyperparameters\n",
    "als = ALS(rank=rank, maxIter=max_iter, regParam=reg_param, userCol=\"userId\", itemCol=\"movieId\", ratingCol=\"rating\")\n",
    "model = als.fit(train_data)\n",
    "\n",
    "# Generate recommendations for all users\n",
    "userRecs = model.recommendForAllUsers(10)  # You can adjust the number of recommendations (10 in this example)\n"
   ]
  },
  {
   "cell_type": "code",
   "execution_count": 5,
   "id": "334f148a",
   "metadata": {},
   "outputs": [
    {
     "ename": "SyntaxError",
     "evalue": "invalid syntax (4278770036.py, line 20)",
     "output_type": "error",
     "traceback": [
      "\u001b[0;36m  Cell \u001b[0;32mIn[5], line 20\u001b[0;36m\u001b[0m\n\u001b[0;31m    ndcg = dcg / idcg\u001b[0m\n\u001b[0m    ^\u001b[0m\n\u001b[0;31mSyntaxError\u001b[0m\u001b[0;31m:\u001b[0m invalid syntax\n"
     ]
    }
   ],
   "source": [
    "# Define a function to calculate NDCG for a single user\n",
    "def calculate_ndcg(user_id, true_items, recommended_items, k=10):\n",
    "    if user_id not in userRecs.select(\"userId\").rdd.flatMap(lambda x: x).collect():\n",
    "        return None  # User not in recommendations\n",
    "\n",
    "    # Calculate DCG (Discounted Cumulative Gain)\n",
    "    dcg = 0.0\n",
    "    for i in range(min(k, len(recommended_items))):\n",
    "        item = recommended_items[i]\n",
    "        if item in true_items:\n",
    "            relevance = 1.0\n",
    "        else:\n",
    "            relevance = 0.0\n",
    "        dcg += (2 ** relevance - 1) / np.log2(i + 2)\n",
    "\n",
    "    # Calculate IDCG (Ideal DCG)\n",
    "    idcg = sum(1.0 / np.log2(i + 2) for i in range(min(k, len(true_items)))\n",
    "\n",
    "    # Calculate NDCG\n",
    "    ndcg = dcg / idcg\n",
    "    return ndcg\n",
    "\n",
    "# Calculate NDCG for each user in the test data\n",
    "ndcg_values = []\n",
    "for row in test_data.collect():\n",
    "    user_id = row[\"userId\"]\n",
    "    true_items = [row[\"movieId\"]]\n",
    "    recommended_items = userRecs.where(col(\"userId\") == user_id).select(\"recommendations.movieId\").rdd.flatMap(lambda x: x[0]).collect()\n",
    "    ndcg = calculate_ndcg(user_id, true_items, recommended_items)\n",
    "    if ndcg is not None:\n",
    "        ndcg_values.append(ndcg)\n",
    "\n",
    "# Calculate the average NDCG score\n",
    "average_ndcg = sum(ndcg_values) / len(ndcg_values)\n",
    "print(\"Average NDCG:\", average_ndcg)\n"
   ]
  },
  {
   "cell_type": "code",
   "execution_count": null,
   "id": "13d0ce42",
   "metadata": {},
   "outputs": [],
   "source": []
  }
 ],
 "metadata": {
  "kernelspec": {
   "display_name": "Python 3 (ipykernel)",
   "language": "python",
   "name": "python3"
  },
  "language_info": {
   "codemirror_mode": {
    "name": "ipython",
    "version": 3
   },
   "file_extension": ".py",
   "mimetype": "text/x-python",
   "name": "python",
   "nbconvert_exporter": "python",
   "pygments_lexer": "ipython3",
   "version": "3.8.18"
  }
 },
 "nbformat": 4,
 "nbformat_minor": 5
}
