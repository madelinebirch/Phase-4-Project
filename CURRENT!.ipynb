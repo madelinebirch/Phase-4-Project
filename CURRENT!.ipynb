{
 "cells": [
  {
   "cell_type": "markdown",
   "id": "60d193de",
   "metadata": {},
   "source": [
    "# cineSYNC: Navigating the Stream to Success\n",
    "**An Exploratory Approach to Personalized Recommendation Systems**"
   ]
  },
  {
   "cell_type": "markdown",
   "id": "06d1393d",
   "metadata": {},
   "source": [
    "<img src=\"Images/cineSYNC_logo.png\" alt=\"CineSYNC Logo\" width=\"300\" height=\"200\">"
   ]
  },
  {
   "cell_type": "markdown",
   "id": "cd6f95fa",
   "metadata": {},
   "source": [
    "# Business Understanding\n",
    "### Our Primary Stakeholder\n",
    "Our protagonist in this story is cineSYNC, a veteran streaming service that's resurrecting itself out of obscurity. Established in 2006 and operating as \"the people's streaming service\" ever since, the platform's many users celebrate the outdated, low-tech simplicity of its straightforward movie library and basic UI akin to that of vintage piracy sites like Levidia.ch or Project Free TV. Bolstered by recent investments, cineSYNC has set its sights on a major transformation, aiming to provide a more personalized user experience competitive with industry heavyweights like Netflix and HBO Max, while maintaining their integrity as a universally approachable brand and affordable service. Deviating from their longstanding ads-only revenue model, cineSYNC is prepared to offer low-cost subscriptions in exchange for user profiles, rating options, and customized title recommendations, recognizing that the key to success lies in aligning with user tastes and meeting user preferences. \n",
    "\n",
    "### Our Mission\n",
    "Our mission is to introduce cineSYNC to the basics and intricacies of user-based recommendation systems. We'll delve into various collaborative filtering techniques such as Singular Value Decomposition (SVD) and Alternating Least Squares (ALS), demystify the underlying concepts, and evaluate model performance. Collaborative filtering, a key focus of our exploration, involves recommending items based on the preferences and behavior of similar users. This approach, in contrast to content-based or hybrid filtering systems, harnesses the collective wisdom of the user community, allowing cineSYNC to tap into the diverse tastes of its audience.\n",
    "\n",
    "#### Why Collaborative Filtering?\n",
    "Collaborative filtering holds a distinct advantage in capturing complex and evolving user preferences. Unlike content-based approaches, which rely on item characteristics, collaborative filtering adapts dynamically to user behavior, making it well-suited for platforms like cineSYNC with a vast and diverse content library. By leveraging the wisdom of the crowd, collaborative filtering facilitates personalized recommendations, enhancing user satisfaction and engagement.\n",
    "\n",
    "#### Model Evaluation Metrics\n",
    "Throughout our exploratory journey, we will use model evaluation metrics such as RMSE (Root Mean Squared Error) and MAE (Mean Absolute Error) as our guiding compass. These metrics allow us to quantify the accuracy of our recommendation models, providing cineSYNC with tangible insights into the effectiveness of the implemented collaborative filtering techniques.\n",
    "\n",
    "With our foundational support, cineSYNC can not only navigate the intricacies of recommendation systems but also emerge as a formidable contender among industry giants. "
   ]
  },
  {
   "cell_type": "markdown",
   "id": "c7e0b77a",
   "metadata": {},
   "source": [
    "# Data Understanding\n",
    "<img src=\"Images/grouplens_logo.png\" alt=\"grouplens logo\" width=\"300\" height=\"200\">\n",
    "\n",
    "In this project, we will be working with the MovieLens dataset provided by the GroupLens research lab at the University of Minnesota. The dataset is a well-known resource in the field of recommendation systems and contains information about movies, user ratings, and user-generated tags.\n",
    "### Dataset Components\n",
    "The dataset is distributed in the ml-latest-small.zip archive and contains the following four CSV files:\n",
    "\n",
    "\n",
    "**`ratings.csv:`** This file contains user ratings for various movies. This dataset will likely be the primary source for building our recommendation system based on collaborative filtering.\n",
    "\n",
    "**`movies.csv:`** This file contains information about movies, including their unique identifiers.\n",
    "\n",
    "**`tags.csv:`** This file contains user-generated tags for movies. While not the focus of our exploration in collaborative filtering, it is worth highlighting here for the purposes of cineSYNC's future content-based or hybrid modeling endeavors.\n",
    "\n",
    "**`links.csv:`** This file contains links to external movie databases. This external data could be useful to cineSYNC, but do not fit within the scope of our project."
   ]
  },
  {
   "cell_type": "markdown",
   "id": "a250c787",
   "metadata": {},
   "source": [
    "# Data Preparation"
   ]
  },
  {
   "cell_type": "code",
   "execution_count": 1,
   "id": "2a6d62e4",
   "metadata": {},
   "outputs": [],
   "source": [
    "# Importing necessary libraries\n",
    "import pandas as pd\n",
    "import numpy as np\n",
    "import matplotlib.pyplot as plt\n",
    "import seaborn as sns"
   ]
  },
  {
   "cell_type": "markdown",
   "id": "53c11558",
   "metadata": {},
   "source": [
    "We will now load each .csv file as Pandas DataFrames, and inspect `ratings_df`, as it will be our primary source of data for collaborative filtering:"
   ]
  },
  {
   "cell_type": "code",
   "execution_count": 2,
   "id": "57a832a1",
   "metadata": {},
   "outputs": [],
   "source": [
    "# Loading MovieLens dataset, presented in 4 .csv files\n",
    "ratings_df = pd.read_csv('Data/ratings.csv')\n",
    "movies_df = pd.read_csv('Data/movies.csv')\n",
    "tags_df = pd.read_csv('Data/tags.csv')\n",
    "links_df = pd.read_csv('Data/links.csv')"
   ]
  },
  {
   "cell_type": "markdown",
   "id": "eaaea657",
   "metadata": {},
   "source": [
    "#### Inspecting and filtering `ratings_df`"
   ]
  },
  {
   "cell_type": "markdown",
   "id": "79d21455",
   "metadata": {},
   "source": [
    "Lets call the .head() function to get column names:"
   ]
  },
  {
   "cell_type": "code",
   "execution_count": 3,
   "id": "b7e27e11",
   "metadata": {},
   "outputs": [
    {
     "data": {
      "text/html": [
       "<div>\n",
       "<style scoped>\n",
       "    .dataframe tbody tr th:only-of-type {\n",
       "        vertical-align: middle;\n",
       "    }\n",
       "\n",
       "    .dataframe tbody tr th {\n",
       "        vertical-align: top;\n",
       "    }\n",
       "\n",
       "    .dataframe thead th {\n",
       "        text-align: right;\n",
       "    }\n",
       "</style>\n",
       "<table border=\"1\" class=\"dataframe\">\n",
       "  <thead>\n",
       "    <tr style=\"text-align: right;\">\n",
       "      <th></th>\n",
       "      <th>userId</th>\n",
       "      <th>movieId</th>\n",
       "      <th>rating</th>\n",
       "      <th>timestamp</th>\n",
       "    </tr>\n",
       "  </thead>\n",
       "  <tbody>\n",
       "    <tr>\n",
       "      <th>0</th>\n",
       "      <td>1</td>\n",
       "      <td>1</td>\n",
       "      <td>4.0</td>\n",
       "      <td>964982703</td>\n",
       "    </tr>\n",
       "    <tr>\n",
       "      <th>1</th>\n",
       "      <td>1</td>\n",
       "      <td>3</td>\n",
       "      <td>4.0</td>\n",
       "      <td>964981247</td>\n",
       "    </tr>\n",
       "    <tr>\n",
       "      <th>2</th>\n",
       "      <td>1</td>\n",
       "      <td>6</td>\n",
       "      <td>4.0</td>\n",
       "      <td>964982224</td>\n",
       "    </tr>\n",
       "    <tr>\n",
       "      <th>3</th>\n",
       "      <td>1</td>\n",
       "      <td>47</td>\n",
       "      <td>5.0</td>\n",
       "      <td>964983815</td>\n",
       "    </tr>\n",
       "    <tr>\n",
       "      <th>4</th>\n",
       "      <td>1</td>\n",
       "      <td>50</td>\n",
       "      <td>5.0</td>\n",
       "      <td>964982931</td>\n",
       "    </tr>\n",
       "  </tbody>\n",
       "</table>\n",
       "</div>"
      ],
      "text/plain": [
       "   userId  movieId  rating  timestamp\n",
       "0       1        1     4.0  964982703\n",
       "1       1        3     4.0  964981247\n",
       "2       1        6     4.0  964982224\n",
       "3       1       47     5.0  964983815\n",
       "4       1       50     5.0  964982931"
      ]
     },
     "execution_count": 3,
     "metadata": {},
     "output_type": "execute_result"
    }
   ],
   "source": [
    "# Inspecting first 5 rows of `ratings_df`\n",
    "ratings_df.head()"
   ]
  },
  {
   "cell_type": "markdown",
   "id": "d4265cd7",
   "metadata": {},
   "source": [
    "Upon superficial inspection, we see that `ratings_df`  consists of four features: `userId`, `movieId`, `rating`, and `timestamp`. We can conclude:\n",
    "\n",
    "- `userId` represents the unique identifier of users.\n",
    "- `movieId` represents the unique identifier of movies.\n",
    "- `rating` column contains the ratings assigned by users to the movies.\n",
    "- `timestamp` indicates when in the movie viewing time the rating was recorded."
   ]
  },
  {
   "cell_type": "code",
   "execution_count": 4,
   "id": "2e084fe4",
   "metadata": {},
   "outputs": [
    {
     "data": {
      "text/plain": [
       "(100836, 4)"
      ]
     },
     "execution_count": 4,
     "metadata": {},
     "output_type": "execute_result"
    }
   ],
   "source": [
    "# Getting shape of `ratings_df`\n",
    "ratings_df.shape"
   ]
  },
  {
   "cell_type": "markdown",
   "id": "6d5913af",
   "metadata": {},
   "source": [
    "After viewing the shape of `ratings_df`, we see that there are 100,836 rows, or data points. That's a lot of data points, despite the fact that we've loaded the *condensed* version of the MovieLens dataset. We might consider filtering down `ratings_df` for the purposes of our project."
   ]
  },
  {
   "cell_type": "code",
   "execution_count": 5,
   "id": "dc8cb6a6",
   "metadata": {},
   "outputs": [
    {
     "data": {
      "text/plain": [
       "userId       0\n",
       "movieId      0\n",
       "rating       0\n",
       "timestamp    0\n",
       "dtype: int64"
      ]
     },
     "execution_count": 5,
     "metadata": {},
     "output_type": "execute_result"
    }
   ],
   "source": [
    "# Checking for null values in `ratings_df`\n",
    "ratings_df.isnull().sum()"
   ]
  },
  {
   "cell_type": "markdown",
   "id": "c0050e1c",
   "metadata": {},
   "source": [
    "Using the .isnull() and .sum() functions to get a total of null (NaN) values, it looks like the DataFrame is complete with no missing values."
   ]
  },
  {
   "cell_type": "code",
   "execution_count": 6,
   "id": "04e7bdd6",
   "metadata": {},
   "outputs": [
    {
     "data": {
      "text/html": [
       "<div>\n",
       "<style scoped>\n",
       "    .dataframe tbody tr th:only-of-type {\n",
       "        vertical-align: middle;\n",
       "    }\n",
       "\n",
       "    .dataframe tbody tr th {\n",
       "        vertical-align: top;\n",
       "    }\n",
       "\n",
       "    .dataframe thead th {\n",
       "        text-align: right;\n",
       "    }\n",
       "</style>\n",
       "<table border=\"1\" class=\"dataframe\">\n",
       "  <thead>\n",
       "    <tr style=\"text-align: right;\">\n",
       "      <th></th>\n",
       "      <th>userId</th>\n",
       "      <th>movieId</th>\n",
       "      <th>rating</th>\n",
       "      <th>timestamp</th>\n",
       "    </tr>\n",
       "  </thead>\n",
       "  <tbody>\n",
       "    <tr>\n",
       "      <th>count</th>\n",
       "      <td>100836.000000</td>\n",
       "      <td>100836.000000</td>\n",
       "      <td>100836.000000</td>\n",
       "      <td>1.008360e+05</td>\n",
       "    </tr>\n",
       "    <tr>\n",
       "      <th>mean</th>\n",
       "      <td>326.127564</td>\n",
       "      <td>19435.295718</td>\n",
       "      <td>3.501557</td>\n",
       "      <td>1.205946e+09</td>\n",
       "    </tr>\n",
       "    <tr>\n",
       "      <th>std</th>\n",
       "      <td>182.618491</td>\n",
       "      <td>35530.987199</td>\n",
       "      <td>1.042529</td>\n",
       "      <td>2.162610e+08</td>\n",
       "    </tr>\n",
       "    <tr>\n",
       "      <th>min</th>\n",
       "      <td>1.000000</td>\n",
       "      <td>1.000000</td>\n",
       "      <td>0.500000</td>\n",
       "      <td>8.281246e+08</td>\n",
       "    </tr>\n",
       "    <tr>\n",
       "      <th>25%</th>\n",
       "      <td>177.000000</td>\n",
       "      <td>1199.000000</td>\n",
       "      <td>3.000000</td>\n",
       "      <td>1.019124e+09</td>\n",
       "    </tr>\n",
       "    <tr>\n",
       "      <th>50%</th>\n",
       "      <td>325.000000</td>\n",
       "      <td>2991.000000</td>\n",
       "      <td>3.500000</td>\n",
       "      <td>1.186087e+09</td>\n",
       "    </tr>\n",
       "    <tr>\n",
       "      <th>75%</th>\n",
       "      <td>477.000000</td>\n",
       "      <td>8122.000000</td>\n",
       "      <td>4.000000</td>\n",
       "      <td>1.435994e+09</td>\n",
       "    </tr>\n",
       "    <tr>\n",
       "      <th>max</th>\n",
       "      <td>610.000000</td>\n",
       "      <td>193609.000000</td>\n",
       "      <td>5.000000</td>\n",
       "      <td>1.537799e+09</td>\n",
       "    </tr>\n",
       "  </tbody>\n",
       "</table>\n",
       "</div>"
      ],
      "text/plain": [
       "              userId        movieId         rating     timestamp\n",
       "count  100836.000000  100836.000000  100836.000000  1.008360e+05\n",
       "mean      326.127564   19435.295718       3.501557  1.205946e+09\n",
       "std       182.618491   35530.987199       1.042529  2.162610e+08\n",
       "min         1.000000       1.000000       0.500000  8.281246e+08\n",
       "25%       177.000000    1199.000000       3.000000  1.019124e+09\n",
       "50%       325.000000    2991.000000       3.500000  1.186087e+09\n",
       "75%       477.000000    8122.000000       4.000000  1.435994e+09\n",
       "max       610.000000  193609.000000       5.000000  1.537799e+09"
      ]
     },
     "execution_count": 6,
     "metadata": {},
     "output_type": "execute_result"
    }
   ],
   "source": [
    "# Getting primary statistics of `ratings_df`\n",
    "ratings_df.describe()"
   ]
  },
  {
   "cell_type": "markdown",
   "id": "5a9013a0",
   "metadata": {},
   "source": [
    "Above, we've obtained primary statistical information about the ratings_df DataFrame using the describe() function to obtain central tendencies and data spread.\n",
    "- The mean rating is approximately 3.50, indicating a relatively balanced distribution of ratings.\n",
    "- The minimum and maximum ratings are 0.5 and 5.0, respectively.\n",
    "- The dataset includes users with userId ranging from 1 to 610 and a total number of movieId's ranging from 1 to 193,609.\n",
    "- The timestamp column may not be directly relevant to our collaborative filtering, as it represents the timestamp of ratings."
   ]
  },
  {
   "cell_type": "markdown",
   "id": "e2344822",
   "metadata": {},
   "source": [
    "#### Filtering `ratings_df`"
   ]
  },
  {
   "cell_type": "markdown",
   "id": "f97a9540",
   "metadata": {},
   "source": [
    "To manage the data within the scope of our project, we will filter the `ratings_df` DataFrame to focus on movies that meet specific criteria. This filtering will help us narrow down the dataset for a more efficient representation of modeling and analysis:"
   ]
  },
  {
   "cell_type": "code",
   "execution_count": 7,
   "id": "4ab39244",
   "metadata": {},
   "outputs": [],
   "source": [
    "# Filtering out movies with ratings under 3.5 stars\n",
    "min_rating_threshold = 3.5\n",
    "filtered_ratings_df = ratings_df[ratings_df['rating'] >= min_rating_threshold]\n",
    "\n",
    "# Filtering out movies with too few ratings (adjust min_ratings as needed)\n",
    "min_ratings = 50\n",
    "filtered_ratings_df = filtered_ratings_df.groupby('movieId').filter(lambda x: len(x) >= min_ratings)"
   ]
  },
  {
   "cell_type": "markdown",
   "id": "a0e8cbc4",
   "metadata": {},
   "source": [
    "Above, we've established a minimum rating threshold of 3.5 stars (min_rating_threshold). Movies with ratings below this threshold will be excluded from our analysis. The code filters the ratings_df DataFrame, retaining only rows where the 'rating' column is greater than or equal to 3.5. This ensures that we focus on movies that are generally well-received by users."
   ]
  },
  {
   "cell_type": "code",
   "execution_count": 8,
   "id": "18f4fae7",
   "metadata": {},
   "outputs": [
    {
     "data": {
      "text/plain": [
       "(21464, 4)"
      ]
     },
     "execution_count": 8,
     "metadata": {},
     "output_type": "execute_result"
    }
   ],
   "source": [
    "filtered_ratings_df.shape"
   ]
  },
  {
   "cell_type": "markdown",
   "id": "610980a1",
   "metadata": {},
   "source": [
    "With `filtered_ratings_df`, we are now able to work with a smaller, more mangeable subset of our original `ratings_df`."
   ]
  },
  {
   "cell_type": "markdown",
   "id": "b809dbb9",
   "metadata": {},
   "source": [
    "#### Visualizing distribution of ratings in `filtered_ratings_df`"
   ]
  },
  {
   "cell_type": "markdown",
   "id": "9c8fa6b3",
   "metadata": {},
   "source": [
    "Let's take a look at the distribution of ratings in `filtered_ratings_df` by plotting the 'rating' feature below: "
   ]
  },
  {
   "cell_type": "code",
   "execution_count": 9,
   "id": "faa82c9e",
   "metadata": {},
   "outputs": [
    {
     "data": {
      "text/plain": [
       "Text(0, 0.5, 'Count')"
      ]
     },
     "execution_count": 9,
     "metadata": {},
     "output_type": "execute_result"
    },
    {
     "data": {
      "image/png": "[encoded data removed]",
      "text/plain": [
       "<Figure size 1600x1200 with 1 Axes>"
      ]
     },
     "metadata": {},
     "output_type": "display_data"
    }
   ],
   "source": [
    "# Plot 1: Distribution of Ratings\n",
    "\n",
    "# Setting the style for plot \n",
    "sns.set(style=\"whitegrid\")\n",
    "#  Creating figure, setting figsize\n",
    "plt.figure(figsize=(16, 12))\n",
    "# Creating subplot within figure, specifying grid layout\n",
    "plt.subplot(2, 2, 1)\n",
    "#Creating histogram of 'rating' feature, setting bins and parameters\n",
    "sns.histplot(filtered_ratings_df['rating'], bins=9, kde=True)\n",
    "# Setting plot title\n",
    "plt.title('Distribution of Ratings')\n",
    "# Labelling axes\n",
    "plt.xlabel('Rating')\n",
    "plt.ylabel('Count')"
   ]
  },
  {
   "cell_type": "markdown",
   "id": "7e06cb46",
   "metadata": {},
   "source": [
    "From the plot above, it appears a majority of movies have been rated at around 4.0. Let's continue with some feature engineering and plotting to get a larger sense of user ratings. These engineered features will serve us only in our EDA and provide overarching insight and won't necessarily be used in modeling."
   ]
  },
  {
   "cell_type": "markdown",
   "id": "bb65ae60",
   "metadata": {},
   "source": [
    "#### Feature engineering & data visualization of `filtered_ratings_df"
   ]
  },
  {
   "cell_type": "markdown",
   "id": "bd87dfe4",
   "metadata": {},
   "source": [
    "As our first engineered feature, we'll calculate the average rating for each movie. This feature could provide insights into the overall popularity and user sentiment toward the movie set as a whole:"
   ]
  },
  {
   "cell_type": "code",
   "execution_count": 10,
   "id": "a75a205c",
   "metadata": {},
   "outputs": [],
   "source": [
    "# Calculating average ratings for each movie by grouping filtered_ratings_df by 'movieId' and calculating the \n",
    "# mean, creating a new DataFrame `average_ratings`.\n",
    "average_ratings = filtered_ratings_df.groupby('movieId')['rating'].mean().reset_index()\n",
    "\n",
    "# Renaming the 'rating' column in average_ratings to 'avg_rating' to distinguish from the original 'rating'\n",
    "average_ratings.rename(columns={'rating': 'avg_rating'}, inplace=True)\n",
    "\n",
    "# Merging average_ratings into filtered_ratings_df based on 'movieId' to associate average ratings with movie \n",
    "# ratings, using a left join to retain all rows from the left DataFrame while matching average ratings where \n",
    "# available from the right\n",
    "filtered_ratings_df = filtered_ratings_df.merge(average_ratings, on='movieId', how='left')"
   ]
  },
  {
   "cell_type": "markdown",
   "id": "96da4c28",
   "metadata": {},
   "source": [
    "Now, let's visualize the distribution of our new feature `average_ratings`:"
   ]
  },
  {
   "cell_type": "code",
   "execution_count": 11,
   "id": "5b028631",
   "metadata": {},
   "outputs": [
    {
     "data": {
      "image/png": "[encoded data removed]",
      "text/plain": [
       "<Figure size 1200x600 with 1 Axes>"
      ]
     },
     "metadata": {},
     "output_type": "display_data"
    }
   ],
   "source": [
    "# Plot 2: Distribution of Avg Movie Ratings\n",
    "\n",
    "# Setting the style for the plots\n",
    "sns.set(style=\"whitegrid\")\n",
    "# Creating a figure with subplots\n",
    "plt.figure(figsize=(12, 6))\n",
    "# Creating histogram, setting bins and parameters\n",
    "sns.histplot(average_ratings['avg_rating'], bins=30, kde=True, color='skyblue')\n",
    "# Setting axes labels and title\n",
    "plt.xlabel('Average Movie Rating')\n",
    "plt.ylabel('Frequency')\n",
    "plt.title('Distribution of Average Movie Ratings')\n",
    "# Showing the plot\n",
    "plt.show()"
   ]
  },
  {
   "cell_type": "markdown",
   "id": "ee278553",
   "metadata": {},
   "source": [
    "The above plot provides clarity from our first plot, showing the average movie rating in indeed our dataset is somewhere between 4.0 and 4.4.\n",
    "\n",
    "Let's now create a feature that represents the number of ratings each movie has received. This can help us understand how well-known and frequently rated a movie is, and might even be a contender for use in modeling:"
   ]
  },
  {
   "cell_type": "code",
   "execution_count": 12,
   "id": "8f9c32aa",
   "metadata": {},
   "outputs": [],
   "source": [
    "# Calculating the number of ratings for each movie by grouping filtered_ratings_df by 'movieId' and \n",
    "# counting the ratings, creating a new DataFrame `num_ratings`\n",
    "num_ratings = filtered_ratings_df.groupby('movieId')['rating'].count().reset_index()\n",
    "\n",
    "# Renaming the 'rating' column in num_ratings to 'num_ratings' for distinction from original 'rating'\n",
    "num_ratings.rename(columns={'rating': 'num_ratings'}, inplace=True)\n",
    "\n",
    "# Merging num_ratings into filtered_ratings_df based on 'movieId' to associate the number of ratings with \n",
    "#movie ratings, using a left join to retain all rows from the left DataFrame while matching the number of \n",
    "#ratings where available from the right\n",
    "filtered_ratings_df = filtered_ratings_df.merge(num_ratings, on='movieId', how='left')"
   ]
  },
  {
   "cell_type": "markdown",
   "id": "d92aa22b",
   "metadata": {},
   "source": [
    "Now, let's visualize the distribution of our new feature 'num_ratings':"
   ]
  },
  {
   "cell_type": "code",
   "execution_count": 13,
   "id": "ce465644",
   "metadata": {},
   "outputs": [
    {
     "data": {
      "image/png": "[encoded data removed]",
      "text/plain": [
       "<Figure size 1200x600 with 1 Axes>"
      ]
     },
     "metadata": {},
     "output_type": "display_data"
    }
   ],
   "source": [
    "# Setting the style for the plot\n",
    "sns.set(style=\"whitegrid\")\n",
    "\n",
    "# Creating a figure, setting figsize\n",
    "plt.figure(figsize=(12, 6))\n",
    "\n",
    "# Creating histogram subplot, setting bins and parameters\n",
    "sns.histplot(num_ratings['num_ratings'], bins=30, kde=True, color='skyblue')\n",
    "\n",
    "# Setting axes labels and title\n",
    "plt.xlabel('Number of Ratings')\n",
    "plt.ylabel('Frequency')\n",
    "plt.title('Distribution of Number of Ratings per Movie')\n",
    "\n",
    "# Showing the plot\n",
    "plt.show()\n"
   ]
  },
  {
   "cell_type": "markdown",
   "id": "49f9499f",
   "metadata": {},
   "source": [
    "This plot reveals that the dataset contains many movies with a relatively low number of ratings, while a few movies have a substantially higher number of ratings. This positive, right-skewed distribution is typical in user-generated rating data, and could be useful for modeling, though that is still unclear."
   ]
  },
  {
   "cell_type": "markdown",
   "id": "ce1bd352",
   "metadata": {},
   "source": [
    "Let's continue our feature engineering segment by creating `avg_user_rating`:"
   ]
  },
  {
   "cell_type": "code",
   "execution_count": 14,
   "id": "019874c2",
   "metadata": {},
   "outputs": [],
   "source": [
    "# Calculating the average rating for each user\n",
    "average_user_ratings = filtered_ratings_df.groupby('userId')['rating'].mean().reset_index()\n",
    "\n",
    "# Renaming the 'rating' column to 'avg_user_rating'\n",
    "average_user_ratings.rename(columns={'rating': 'avg_user_rating'}, inplace=True)\n",
    "\n",
    "# Merging the average user ratings back into the original dataframe based on 'userId'\n",
    "filtered_ratings_df = filtered_ratings_df.merge(average_user_ratings, on='userId', how='left')"
   ]
  },
  {
   "cell_type": "code",
   "execution_count": 15,
   "id": "cbcb5269",
   "metadata": {},
   "outputs": [
    {
     "data": {
      "image/png": "[encoded data removed]",
      "text/plain": [
       "<Figure size 640x480 with 1 Axes>"
      ]
     },
     "metadata": {},
     "output_type": "display_data"
    }
   ],
   "source": [
    "# Plotting a histogram of the average user ratings using Seaborn\n",
    "sns.histplot(average_user_ratings['avg_user_rating'], bins=30, kde=True, color='skyblue')\n",
    "\n",
    "# Setting plot title and axes labels\n",
    "plt.xlabel('Average User Rating')\n",
    "plt.ylabel('Frequency')\n",
    "plt.title('Distribution of Average User Ratings')\n",
    "\n",
    "# Showing the plot\n",
    "plt.show()"
   ]
  },
  {
   "cell_type": "markdown",
   "id": "8c6107b4",
   "metadata": {},
   "source": [
    "From the plot above, we see a pretty normal distribution of our new feature `avg_user_rating.` This feature might be helpful in modeling, thought we won't unless we decide to use it in modeling.\n",
    "\n",
    "For our final data cleaning maneurver in filtered_ratings_df, we'll drop the `timestamp` feature, as it won't necessarily be helpful to us in our collaborative filtering modeling:"
   ]
  },
  {
   "cell_type": "code",
   "execution_count": 16,
   "id": "0833f1ae",
   "metadata": {},
   "outputs": [],
   "source": [
    "# Dropping 'timestamp' feature\n",
    "filtered_ratings_df = filtered_ratings_df.drop('timestamp', axis=1)"
   ]
  },
  {
   "cell_type": "markdown",
   "id": "f66b7250",
   "metadata": {},
   "source": [
    "#### Inspecting  `movies_df`\n",
    "It's time to inspect `movies_df` and see what titles, genres, DataFrame shape, and null values we are working with:"
   ]
  },
  {
   "cell_type": "code",
   "execution_count": 17,
   "id": "330b363a",
   "metadata": {},
   "outputs": [
    {
     "data": {
      "text/html": [
       "<div>\n",
       "<style scoped>\n",
       "    .dataframe tbody tr th:only-of-type {\n",
       "        vertical-align: middle;\n",
       "    }\n",
       "\n",
       "    .dataframe tbody tr th {\n",
       "        vertical-align: top;\n",
       "    }\n",
       "\n",
       "    .dataframe thead th {\n",
       "        text-align: right;\n",
       "    }\n",
       "</style>\n",
       "<table border=\"1\" class=\"dataframe\">\n",
       "  <thead>\n",
       "    <tr style=\"text-align: right;\">\n",
       "      <th></th>\n",
       "      <th>movieId</th>\n",
       "      <th>title</th>\n",
       "      <th>genres</th>\n",
       "    </tr>\n",
       "  </thead>\n",
       "  <tbody>\n",
       "    <tr>\n",
       "      <th>0</th>\n",
       "      <td>1</td>\n",
       "      <td>Toy Story (1995)</td>\n",
       "      <td>Adventure|Animation|Children|Comedy|Fantasy</td>\n",
       "    </tr>\n",
       "    <tr>\n",
       "      <th>1</th>\n",
       "      <td>2</td>\n",
       "      <td>Jumanji (1995)</td>\n",
       "      <td>Adventure|Children|Fantasy</td>\n",
       "    </tr>\n",
       "    <tr>\n",
       "      <th>2</th>\n",
       "      <td>3</td>\n",
       "      <td>Grumpier Old Men (1995)</td>\n",
       "      <td>Comedy|Romance</td>\n",
       "    </tr>\n",
       "    <tr>\n",
       "      <th>3</th>\n",
       "      <td>4</td>\n",
       "      <td>Waiting to Exhale (1995)</td>\n",
       "      <td>Comedy|Drama|Romance</td>\n",
       "    </tr>\n",
       "    <tr>\n",
       "      <th>4</th>\n",
       "      <td>5</td>\n",
       "      <td>Father of the Bride Part II (1995)</td>\n",
       "      <td>Comedy</td>\n",
       "    </tr>\n",
       "  </tbody>\n",
       "</table>\n",
       "</div>"
      ],
      "text/plain": [
       "   movieId                               title  \\\n",
       "0        1                    Toy Story (1995)   \n",
       "1        2                      Jumanji (1995)   \n",
       "2        3             Grumpier Old Men (1995)   \n",
       "3        4            Waiting to Exhale (1995)   \n",
       "4        5  Father of the Bride Part II (1995)   \n",
       "\n",
       "                                        genres  \n",
       "0  Adventure|Animation|Children|Comedy|Fantasy  \n",
       "1                   Adventure|Children|Fantasy  \n",
       "2                               Comedy|Romance  \n",
       "3                         Comedy|Drama|Romance  \n",
       "4                                       Comedy  "
      ]
     },
     "execution_count": 17,
     "metadata": {},
     "output_type": "execute_result"
    }
   ],
   "source": [
    "# Inspecting head of 'movies_df'\n",
    "movies_df.head()"
   ]
  },
  {
   "cell_type": "code",
   "execution_count": 18,
   "id": "4e0141f4",
   "metadata": {},
   "outputs": [
    {
     "data": {
      "text/plain": [
       "(9742, 3)"
      ]
     },
     "execution_count": 18,
     "metadata": {},
     "output_type": "execute_result"
    }
   ],
   "source": [
    "# Getting shape of DataFrame\n",
    "movies_df.shape"
   ]
  },
  {
   "cell_type": "code",
   "execution_count": 19,
   "id": "516daee9",
   "metadata": {},
   "outputs": [
    {
     "data": {
      "text/plain": [
       "movieId    0\n",
       "title      0\n",
       "genres     0\n",
       "dtype: int64"
      ]
     },
     "execution_count": 19,
     "metadata": {},
     "output_type": "execute_result"
    }
   ],
   "source": [
    "# Checking for null values\n",
    "movies_df.isnull().sum()"
   ]
  },
  {
   "cell_type": "markdown",
   "id": "7ba6b410",
   "metadata": {},
   "source": [
    "#### Visualizing distribution of genres in `movies_df`"
   ]
  },
  {
   "cell_type": "markdown",
   "id": "36e0aae5",
   "metadata": {},
   "source": [
    "Let's plot the distribution of genres in `movies_df`:"
   ]
  },
  {
   "cell_type": "code",
   "execution_count": 20,
   "id": "87c4c6ff",
   "metadata": {},
   "outputs": [
    {
     "data": {
      "image/png": "[encoded data removed]",
      "text/plain": [
       "<Figure size 1600x1200 with 1 Axes>"
      ]
     },
     "metadata": {},
     "output_type": "display_data"
    }
   ],
   "source": [
    "# Setting fig size for plot\n",
    "plt.figure(figsize=(16, 12))\n",
    "\n",
    "# Creating a subplot in a 2x2 grid and selecting the third subplot\n",
    "plt.subplot(2, 2, 3)\n",
    "\n",
    "# Splitting the 'genres' column in the movies dataframe and creating a stacked countplot\n",
    "genres = movies_df['genres'].str.split('|', expand=True).stack()\n",
    "sns.countplot(y=genres, order=genres.value_counts().index)\n",
    "\n",
    "# Setting plot title and axes labels\n",
    "plt.title('Distribution of Genres')\n",
    "plt.xlabel('Count')\n",
    "plt.ylabel('Genre')\n",
    "\n",
    "# Adjusting layout for better spacing and showing the plot\n",
    "plt.tight_layout()\n",
    "plt.show()"
   ]
  },
  {
   "cell_type": "markdown",
   "id": "3e9b7c97",
   "metadata": {},
   "source": [
    "Above, we see Drama, Comedy and Thriller among the most frequently rated films among users in the dataset. If we are to use `movies_df` in any meaningful way, we might as well get dummy variables for the 'genres' column and concatenate "
   ]
  },
  {
   "cell_type": "code",
   "execution_count": 21,
   "id": "b792e415",
   "metadata": {},
   "outputs": [],
   "source": [
    "# Creating dummy variables for the 'genres' column using one-hot encoding\n",
    "genres_dummies = movies_df['genres'].str.get_dummies(sep='|')\n",
    "\n",
    "# Concatenating the original movies dataframe with the genre dummy variables\n",
    "movies_df = pd.concat([movies_df, genres_dummies], axis=1)"
   ]
  },
  {
   "cell_type": "code",
   "execution_count": 22,
   "id": "b87b9207",
   "metadata": {},
   "outputs": [],
   "source": [
    "# Creating a copy of the movies dataframe for encoding\n",
    "encoded_movies_df = movies_df.copy()\n",
    "\n",
    "# Specifying and dropping 'genres' columns to be dropped from the encoded dataframe\n",
    "columns_to_drop = ['genres', '(no genres listed)']\n",
    "encoded_movies_df.drop(columns=columns_to_drop, inplace=True)"
   ]
  },
  {
   "cell_type": "code",
   "execution_count": 23,
   "id": "cb2eb3d3",
   "metadata": {},
   "outputs": [],
   "source": [
    "# Setting the Seaborn style to whitegrid\n",
    "sns.set(style=\"whitegrid\")\n",
    "\n",
    "# Extracting the genre columns from the encoded movies dataframe\n",
    "genre_columns = encoded_movies_df.columns[2:]  # Assuming the genre columns start from the third column\n",
    "\n",
    "# Calculating the number of genres, rows, and columns for the subplot grid\n",
    "num_genres = len(genre_columns)\n",
    "num_cols = 3  # Number of columns in each row\n",
    "num_rows = (num_genres + num_cols - 1) // num_cols  # Calculate the number of rows"
   ]
  },
  {
   "cell_type": "code",
   "execution_count": 24,
   "id": "1914d502",
   "metadata": {},
   "outputs": [
    {
     "data": {
      "image/png": "[encoded data removed]",
      "text/plain": [
       "<Figure size 1600x1200 with 19 Axes>"
      ]
     },
     "metadata": {},
     "output_type": "display_data"
    }
   ],
   "source": [
    "# Create a subplot grid with specified size\n",
    "fig, axes = plt.subplots(num_rows, num_cols, figsize=(16, 12))\n",
    "\n",
    "# Creating a for loop to iterate through genre columns and create histograms in subplots\n",
    "\n",
    "for i, genre in enumerate(genre_columns):\n",
    "    row = i // num_cols\n",
    "    col = i % num_cols\n",
    "\n",
    "    ax = axes[row, col]\n",
    "\n",
    "    # Plotting a histogram for each genre\n",
    "    sns.histplot(encoded_movies_df[genre], bins=30, kde=True, ax=ax, color='skyblue')\n",
    "    ax.set_title(genre)\n",
    "\n",
    "# Removing excess empty subplots if there are fewer genres than expected\n",
    "for i in range(num_genres, num_rows * num_cols):\n",
    "    fig.delaxes(axes.flatten()[i])\n",
    "\n",
    "# Adjusting layout and showing the plot\n",
    "fig.tight_layout()\n",
    "plt.show()"
   ]
  },
  {
   "cell_type": "code",
   "execution_count": 25,
   "id": "d4d981e3",
   "metadata": {},
   "outputs": [],
   "source": [
    "# Merging the filtered ratings dataframe with the encoded movies dataframe based on 'movieId' using an inner join\n",
    "movies_and_ratings_df = filtered_ratings_df.merge(encoded_movies_df, on='movieId', how='inner')"
   ]
  },
  {
   "cell_type": "code",
   "execution_count": 26,
   "id": "90af0eed",
   "metadata": {},
   "outputs": [
    {
     "data": {
      "text/html": [
       "<div>\n",
       "<style scoped>\n",
       "    .dataframe tbody tr th:only-of-type {\n",
       "        vertical-align: middle;\n",
       "    }\n",
       "\n",
       "    .dataframe tbody tr th {\n",
       "        vertical-align: top;\n",
       "    }\n",
       "\n",
       "    .dataframe thead th {\n",
       "        text-align: right;\n",
       "    }\n",
       "</style>\n",
       "<table border=\"1\" class=\"dataframe\">\n",
       "  <thead>\n",
       "    <tr style=\"text-align: right;\">\n",
       "      <th></th>\n",
       "      <th>userId</th>\n",
       "      <th>movieId</th>\n",
       "      <th>rating</th>\n",
       "      <th>avg_rating</th>\n",
       "      <th>num_ratings</th>\n",
       "      <th>avg_user_rating</th>\n",
       "      <th>title</th>\n",
       "      <th>Action</th>\n",
       "      <th>Adventure</th>\n",
       "      <th>Animation</th>\n",
       "      <th>...</th>\n",
       "      <th>Film-Noir</th>\n",
       "      <th>Horror</th>\n",
       "      <th>IMAX</th>\n",
       "      <th>Musical</th>\n",
       "      <th>Mystery</th>\n",
       "      <th>Romance</th>\n",
       "      <th>Sci-Fi</th>\n",
       "      <th>Thriller</th>\n",
       "      <th>War</th>\n",
       "      <th>Western</th>\n",
       "    </tr>\n",
       "  </thead>\n",
       "  <tbody>\n",
       "    <tr>\n",
       "      <th>0</th>\n",
       "      <td>1</td>\n",
       "      <td>1</td>\n",
       "      <td>4.0</td>\n",
       "      <td>4.284848</td>\n",
       "      <td>165</td>\n",
       "      <td>4.685714</td>\n",
       "      <td>Toy Story (1995)</td>\n",
       "      <td>0</td>\n",
       "      <td>1</td>\n",
       "      <td>1</td>\n",
       "      <td>...</td>\n",
       "      <td>0</td>\n",
       "      <td>0</td>\n",
       "      <td>0</td>\n",
       "      <td>0</td>\n",
       "      <td>0</td>\n",
       "      <td>0</td>\n",
       "      <td>0</td>\n",
       "      <td>0</td>\n",
       "      <td>0</td>\n",
       "      <td>0</td>\n",
       "    </tr>\n",
       "    <tr>\n",
       "      <th>1</th>\n",
       "      <td>5</td>\n",
       "      <td>1</td>\n",
       "      <td>4.0</td>\n",
       "      <td>4.284848</td>\n",
       "      <td>165</td>\n",
       "      <td>4.333333</td>\n",
       "      <td>Toy Story (1995)</td>\n",
       "      <td>0</td>\n",
       "      <td>1</td>\n",
       "      <td>1</td>\n",
       "      <td>...</td>\n",
       "      <td>0</td>\n",
       "      <td>0</td>\n",
       "      <td>0</td>\n",
       "      <td>0</td>\n",
       "      <td>0</td>\n",
       "      <td>0</td>\n",
       "      <td>0</td>\n",
       "      <td>0</td>\n",
       "      <td>0</td>\n",
       "      <td>0</td>\n",
       "    </tr>\n",
       "    <tr>\n",
       "      <th>2</th>\n",
       "      <td>7</td>\n",
       "      <td>1</td>\n",
       "      <td>4.5</td>\n",
       "      <td>4.284848</td>\n",
       "      <td>165</td>\n",
       "      <td>4.250000</td>\n",
       "      <td>Toy Story (1995)</td>\n",
       "      <td>0</td>\n",
       "      <td>1</td>\n",
       "      <td>1</td>\n",
       "      <td>...</td>\n",
       "      <td>0</td>\n",
       "      <td>0</td>\n",
       "      <td>0</td>\n",
       "      <td>0</td>\n",
       "      <td>0</td>\n",
       "      <td>0</td>\n",
       "      <td>0</td>\n",
       "      <td>0</td>\n",
       "      <td>0</td>\n",
       "      <td>0</td>\n",
       "    </tr>\n",
       "    <tr>\n",
       "      <th>3</th>\n",
       "      <td>17</td>\n",
       "      <td>1</td>\n",
       "      <td>4.5</td>\n",
       "      <td>4.284848</td>\n",
       "      <td>165</td>\n",
       "      <td>4.389706</td>\n",
       "      <td>Toy Story (1995)</td>\n",
       "      <td>0</td>\n",
       "      <td>1</td>\n",
       "      <td>1</td>\n",
       "      <td>...</td>\n",
       "      <td>0</td>\n",
       "      <td>0</td>\n",
       "      <td>0</td>\n",
       "      <td>0</td>\n",
       "      <td>0</td>\n",
       "      <td>0</td>\n",
       "      <td>0</td>\n",
       "      <td>0</td>\n",
       "      <td>0</td>\n",
       "      <td>0</td>\n",
       "    </tr>\n",
       "    <tr>\n",
       "      <th>4</th>\n",
       "      <td>18</td>\n",
       "      <td>1</td>\n",
       "      <td>3.5</td>\n",
       "      <td>4.284848</td>\n",
       "      <td>165</td>\n",
       "      <td>4.092466</td>\n",
       "      <td>Toy Story (1995)</td>\n",
       "      <td>0</td>\n",
       "      <td>1</td>\n",
       "      <td>1</td>\n",
       "      <td>...</td>\n",
       "      <td>0</td>\n",
       "      <td>0</td>\n",
       "      <td>0</td>\n",
       "      <td>0</td>\n",
       "      <td>0</td>\n",
       "      <td>0</td>\n",
       "      <td>0</td>\n",
       "      <td>0</td>\n",
       "      <td>0</td>\n",
       "      <td>0</td>\n",
       "    </tr>\n",
       "  </tbody>\n",
       "</table>\n",
       "<p>5 rows × 26 columns</p>\n",
       "</div>"
      ],
      "text/plain": [
       "   userId  movieId  rating  avg_rating  num_ratings  avg_user_rating  \\\n",
       "0       1        1     4.0    4.284848          165         4.685714   \n",
       "1       5        1     4.0    4.284848          165         4.333333   \n",
       "2       7        1     4.5    4.284848          165         4.250000   \n",
       "3      17        1     4.5    4.284848          165         4.389706   \n",
       "4      18        1     3.5    4.284848          165         4.092466   \n",
       "\n",
       "              title  Action  Adventure  Animation  ...  Film-Noir  Horror  \\\n",
       "0  Toy Story (1995)       0          1          1  ...          0       0   \n",
       "1  Toy Story (1995)       0          1          1  ...          0       0   \n",
       "2  Toy Story (1995)       0          1          1  ...          0       0   \n",
       "3  Toy Story (1995)       0          1          1  ...          0       0   \n",
       "4  Toy Story (1995)       0          1          1  ...          0       0   \n",
       "\n",
       "   IMAX  Musical  Mystery  Romance  Sci-Fi  Thriller  War  Western  \n",
       "0     0        0        0        0       0         0    0        0  \n",
       "1     0        0        0        0       0         0    0        0  \n",
       "2     0        0        0        0       0         0    0        0  \n",
       "3     0        0        0        0       0         0    0        0  \n",
       "4     0        0        0        0       0         0    0        0  \n",
       "\n",
       "[5 rows x 26 columns]"
      ]
     },
     "execution_count": 26,
     "metadata": {},
     "output_type": "execute_result"
    }
   ],
   "source": [
    "# Inspecting head of new dataframe\n",
    "movies_and_ratings_df.head()"
   ]
  },
  {
   "cell_type": "code",
   "execution_count": 27,
   "id": "ca8f79e6",
   "metadata": {},
   "outputs": [
    {
     "data": {
      "text/plain": [
       "userId             0\n",
       "movieId            0\n",
       "rating             0\n",
       "avg_rating         0\n",
       "num_ratings        0\n",
       "avg_user_rating    0\n",
       "title              0\n",
       "Action             0\n",
       "Adventure          0\n",
       "Animation          0\n",
       "Children           0\n",
       "Comedy             0\n",
       "Crime              0\n",
       "Documentary        0\n",
       "Drama              0\n",
       "Fantasy            0\n",
       "Film-Noir          0\n",
       "Horror             0\n",
       "IMAX               0\n",
       "Musical            0\n",
       "Mystery            0\n",
       "Romance            0\n",
       "Sci-Fi             0\n",
       "Thriller           0\n",
       "War                0\n",
       "Western            0\n",
       "dtype: int64"
      ]
     },
     "execution_count": 27,
     "metadata": {},
     "output_type": "execute_result"
    }
   ],
   "source": [
    "# Checking for null values in new dataframe\n",
    "movies_and_ratings_df.isnull().sum()"
   ]
  },
  {
   "cell_type": "markdown",
   "id": "0c857dd5",
   "metadata": {},
   "source": [
    "**NOTE:** *For our purposes, going to the trouble of one-hot encoding and merging the movies and ratings data together in this way is for EDA, and for further explorations into content-based filtering or hybrid systems. Since we are focusing on collaborative filtering, though, this was just to orient ourselves to the distribution of the data.*"
   ]
  },
  {
   "cell_type": "markdown",
   "id": "b77725d9",
   "metadata": {},
   "source": [
    "# Modeling"
   ]
  },
  {
   "cell_type": "markdown",
   "id": "acdfa8ab",
   "metadata": {},
   "source": [
    "### Evaluation Metrics\n",
    "\n",
    "#### RMSE (Root Mean Squared Error):\n",
    "RMSE measures the average magnitude of the differences between predicted and actual values, emphasizing larger errors. For cineSYNC, a lower RMSE indicates better predictive accuracy and alignment with user preferences. The closer to 0, the more accurate.\n",
    "\n",
    "#### MAE (Mean Absolute Error):\n",
    "MAE gauges the average absolute differences between predicted and actual values, providing a more straightforward measure of model performance. Similar to RMSE, a lower MAE signifies better accuracy in predicting user preferences."
   ]
  },
  {
   "cell_type": "markdown",
   "id": "42b32a97",
   "metadata": {},
   "source": [
    "### Model 1: Alternating Least Squares (ALS) with PySpark"
   ]
  },
  {
   "cell_type": "markdown",
   "id": "db85e8da",
   "metadata": {},
   "source": [
    "#### What is ALS?\n",
    "The ALS (Alternating Least Squares) recommendation model is a supervised learning algorithm commonly employed in recommendation systems. Unlike traditional supervised learning, where the algorithm learns from labeled data with explicit input-output pairs, ALS operates in a unique manner within the collaborative filtering framework.\n",
    "\n",
    "In supervised learning, the algorithm learns a mapping from input features to target labels based on a labeled training dataset. In contrast, ALS is employed in a semi-supervised fashion for collaborative filtering, which inherently lacks explicit labels. Instead, it utilizes the implicit feedback inherent in user-item interactions, such as user ratings, to capture underlying patterns in the data.\n",
    "\n",
    "The ALS algorithm optimizes the latent factors by iteratively decomposing the user-item interaction matrix, minimizing the reconstruction error between observed and predicted ratings. This iterative optimization process is the hallmark of ALS, as it alternates between fixing one matrix (either user or item factors) and optimizing the other. Through this alternating process, ALS uncovers latent features that represent user preferences, facilitating the generation of accurate and personalized recommendations.\n",
    "\n",
    "#### How is PySpark Used in the Context of ALS?\n",
    "**PySpark,** the Python API for Apache Spark, offers a scalable and distributed computing framework ideal for large-scale collaborative filtering tasks. ALS in PySpark facilitates the training of models on extensive datasets, ensuring efficient handling of user-item interactions. This is particularly valuable for cineSYNC's ambition to provide a more personalized user experience at scale."
   ]
  },
  {
   "cell_type": "markdown",
   "id": "612c7208",
   "metadata": {},
   "source": [
    "Let's begin.\n",
    "To leverage the power of PySpark in implementing ALS, we begin by:\n",
    "1. Importing SparkSession from the PySpark library \n",
    "2. Initializing a SparkSession. The SparkSession is a unified entry point for interacting with thhe Apache Spark infrastructure and serves as a central component for managing the execution of Spark jobs."
   ]
  },
  {
   "cell_type": "code",
   "execution_count": 28,
   "id": "021a708d",
   "metadata": {},
   "outputs": [],
   "source": [
    "# Importing SparkSession\n",
    "from pyspark.sql import SparkSession"
   ]
  },
  {
   "cell_type": "code",
   "execution_count": 30,
   "id": "eedff741",
   "metadata": {},
   "outputs": [
    {
     "name": "stderr",
     "output_type": "stream",
     "text": [
      "Setting default log level to \"WARN\".\n",
      "To adjust logging level use sc.setLogLevel(newLevel). For SparkR, use setLogLevel(newLevel).\n",
      "23/11/13 18:18:23 WARN NativeCodeLoader: Unable to load native-hadoop library for your platform... using builtin-java classes where applicable\n",
      "23/11/13 18:18:36 WARN GarbageCollectionMetrics: To enable non-built-in garbage collector(s) List(G1 Concurrent GC), users should configure it(them) to spark.eventLog.gcMetrics.youngGenerationGarbageCollectors or spark.eventLog.gcMetrics.oldGenerationGarbageCollectors\n"
     ]
    }
   ],
   "source": [
    "# Building new SparkSession, setting name for Spark application, configuring Spark driver, creating session\n",
    "spark = SparkSession.builder.appName(\"ALS Recommender\").config(\"spark.driver.bindAddress\", \"127.0.0.1\").getOrCreate()"
   ]
  },
  {
   "cell_type": "markdown",
   "id": "120e9fd1",
   "metadata": {},
   "source": [
    "Let's continue by...\n",
    "\n",
    "3. ...importing ALS and Related Modules:\n",
    "\n",
    "- The `ALS` class from `pyspark.ml.recommendation`. ALS is a collaborative filtering algorithm that PySpark provides for building recommendation models based on implicit or explicit user-item interactions.\n",
    "- The `RegressionEvaluator` class from `pyspark.ml.evaluation`. This class is used for evaluating the performance of regression models, which includes ALS models.\n",
    "- The `lit` and `col` functions from `pyspark.sql.functions`. These are used for creating literal values and column references, respectively, and are handy for manipulating and transforming DataFrames.\n",
    "- The `Row` class from `pyspark.sql`. The Row class allows us to create structured rows, which are commonly used in PySpark DataFrames."
   ]
  },
  {
   "cell_type": "code",
   "execution_count": 31,
   "id": "7ff807e3",
   "metadata": {},
   "outputs": [],
   "source": [
    "# Importing necessary classes and modules\n",
    "from pyspark.ml.recommendation import ALS\n",
    "from pyspark.ml.evaluation import RegressionEvaluator\n",
    "from pyspark.sql.functions import lit, col\n",
    "from pyspark.sql import Row"
   ]
  },
  {
   "cell_type": "markdown",
   "id": "3e71eed6",
   "metadata": {},
   "source": [
    "To ensure that operations dependent on randomness produce identical results each time they are run...\n",
    "\n",
    "4. ...we are choosing an arbitrary but fixed  \"seed\" or parameter to impose on the .set() method. We're unsure if this will produce identical code each run, but we will set it nonetheless:"
   ]
  },
  {
   "cell_type": "code",
   "execution_count": 32,
   "id": "169313fa",
   "metadata": {},
   "outputs": [],
   "source": [
    "# Setting a random seed for Sparks SQL module (for reproducibility)\n",
    "spark.conf.set(\"spark.sql.randomSeed\", 42)"
   ]
  },
  {
   "cell_type": "markdown",
   "id": "b66db2a8",
   "metadata": {},
   "source": [
    "Let's continue with...\n",
    "\n",
    "5. ... converting the existing Pandas DataFrame into a PySpark DataFrame, which is crucial for leveraging PySpark's distributed computing capabilities on large datasets. \n",
    "\n",
    "6. Then, we will set the number of partitions (manageable chunks of the dataset) for the PySpark DataFrame. Controlling the number of partitions is essential for optimizing data processing, especially when reading data from external sources. It helps ensure data consistency across runs and allows for efficient parallelism during distributed operations."
   ]
  },
  {
   "cell_type": "code",
   "execution_count": 33,
   "id": "2f34d2c4",
   "metadata": {},
   "outputs": [],
   "source": [
    "# Converting the Pandas DataFrame to a PySpark DataFrame\n",
    "movies_and_ratings_df_spark = spark.createDataFrame(movies_and_ratings_df)\n",
    "\n",
    "# Explicitly setting the number of partitions when reading data from external sources\n",
    "# to ensure data consistency across runs\n",
    "movies_and_ratings_df_spark = movies_and_ratings_df_spark.repartition(4)"
   ]
  },
  {
   "cell_type": "markdown",
   "id": "58bab83d",
   "metadata": {},
   "source": [
    "Let's continue with data selection, splitting, building, fitting, and prediction generation:\n",
    "\n",
    "7. **Data Selection:** We create a new PySpark DataFrame als_data by selecting relevant columns ('userId', 'movieId', 'rating') from the original DataFrame (`movies_and_ratings_df_spark`). This DataFrame will be used as input for the ALS model.\n",
    "8. **Data Splitting:** The dataset is divided into training (80%) and testing (20%) sets using the `randomSplit` method. The training set is used to train the ALS model, while the testing set is reserved for evaluating its performance.\n",
    "9. **Building the ALS Model:** We instantiate the ALS model with various parameters such as maximum number of iterations (`maxIter`), regularization parameter (`regParam`), rank of the feature matrices (`rank`), and others. "
   ]
  },
  {
   "cell_type": "code",
   "execution_count": 34,
   "id": "8f84e083",
   "metadata": {},
   "outputs": [],
   "source": [
    "# Selecting relevant columns for ALS model from the PySpark DataFrame\n",
    "als_data = movies_and_ratings_df_spark.select('userId', 'movieId', 'rating')\n",
    "\n",
    "# Splitting the data into training and testing sets\n",
    "(training, test) = als_data.randomSplit([0.8, 0.2])\n",
    "\n",
    "# Building the ALS model with seed\n",
    "als = ALS(maxIter=10, regParam=0.01, rank=10, implicitPrefs=False, nonnegative=True, userCol='userId', itemCol='movieId', ratingCol='rating', seed=42, coldStartStrategy='drop')"
   ]
  },
  {
   "cell_type": "markdown",
   "id": "5f8b12c9",
   "metadata": {},
   "source": [
    "10. **Fitting the model:** The model is then fitted to the training data using the `fit` method.\n",
    "11. **Generating predictions:** The trained ALS model is used to generate predictions on the test data (test) with the `transform` method. These predictions will be compared to the actual ratings in the testing set to evaluate the model's accuracy."
   ]
  },
  {
   "cell_type": "code",
   "execution_count": 35,
   "id": "9faf0e60",
   "metadata": {},
   "outputs": [
    {
     "name": "stderr",
     "output_type": "stream",
     "text": [
      "23/11/13 19:18:15 WARN InstanceBuilder: Failed to load implementation from:dev.ludovic.netlib.blas.JNIBLAS\n",
      "23/11/13 19:18:15 WARN InstanceBuilder: Failed to load implementation from:dev.ludovic.netlib.blas.VectorBLAS\n"
     ]
    }
   ],
   "source": [
    "# Fitting the model to the training data\n",
    "als_model = als.fit(training)\n",
    "\n",
    "# Generate predictions on the test data\n",
    "als_preds = als_model.transform(test)"
   ]
  },
  {
   "cell_type": "markdown",
   "id": "892a05c7",
   "metadata": {},
   "source": [
    "Now, we will utilize the trained ALS model to generate personalized movie recommendations for a specific user.\n",
    "\n",
    "12. **Choosing userId**: We choose an abritrary user number: 123. This user's historical ratings will be used to predict *unrated* movies.\n",
    "\n",
    "13. **Creating Movie Lists:** We generate a list of all unique movie IDs (`all_movie_ids`). Next, we identify movie IDs rated by the specified user (`user_rated_movies`). Then, we generate a list of unrated movies for the user by subtracting rated movies from all movies (`unrated_movies`)."
   ]
  },
  {
   "cell_type": "code",
   "execution_count": 36,
   "id": "0c5afdd6",
   "metadata": {},
   "outputs": [],
   "source": [
    "# Setting the user ID for which we want to get recommendations\n",
    "user_id = 123\n",
    "\n",
    "# Generating a list of all movie IDs\n",
    "all_movie_ids = movies_and_ratings_df_spark.select(\"movieId\").distinct()\n",
    "\n",
    "# Generating a list of movie IDs rated by the user\n",
    "user_rated_movies = movies_and_ratings_df_spark.filter(col(\"userId\") == user_id).select(\"movieId\")\n",
    "\n",
    "# Generating a list of unrated movies for the user\n",
    "unrated_movies = all_movie_ids.subtract(user_rated_movies)"
   ]
  },
  {
   "cell_type": "markdown",
   "id": "57592d9f",
   "metadata": {},
   "source": [
    "14. **Creating DataFrame for Unrated Movies:** Next, we create a new DataFrame (`user_123_unrated`) containing the unrated movies for the specified user (123). The user ID column is set to the specified user ID for consistency.\n",
    "15. **Generating Predictions:** Finally, we utilize the trained ALS model (`als_model`) to generate predictions for the unrated movies by the specified user. The resulting DataFrame (`predictions`) contains the predicted ratings for each unrated movie, allowing us to recommend movies with the highest predicted ratings to the user."
   ]
  },
  {
   "cell_type": "code",
   "execution_count": 37,
   "id": "48c169fb",
   "metadata": {},
   "outputs": [],
   "source": [
    "# Creating a DataFrame for user 123's unrated movies\n",
    "user_123_unrated = unrated_movies.withColumn('userId', lit(user_id))\n",
    "\n",
    "# Generating predictions for unrated movies by user 123\n",
    "predictions = als_model.transform(user_123_unrated)"
   ]
  },
  {
   "cell_type": "markdown",
   "id": "10a82143",
   "metadata": {},
   "source": [
    "Now, we'll perform post-processing on the predictions generated by the ALS model. This involves:\n",
    "\n",
    "16. **Joining Predictions with Titles:** We join the predictions DataFrame (predictions) with the original DataFrame containing movie titles (movies_and_ratings_df_spark) based on the \"movieId\" column using an inner join. This step associates each predicted rating with its corresponding movie title.\n",
    "\n",
    "17. **Ensuring Distinct Recommendations:** To avoid duplicate recommendations, we select distinct combinations of \"movieId,\" \"title,\" and \"prediction\" from the joined DataFrame."
   ]
  },
  {
   "cell_type": "code",
   "execution_count": 38,
   "id": "7ef9b69a",
   "metadata": {},
   "outputs": [],
   "source": [
    "# Joining predictions withh titles\n",
    "recommendations_with_titles = predictions.join(movies_and_ratings_df_spark, [\"movieId\"], \"inner\")\n",
    "\n",
    "# Ensuring distinct recommendations\n",
    "distinct_recommendations = recommendations_with_titles.select(\"movieId\", \"title\", \"prediction\").distinct()"
   ]
  },
  {
   "cell_type": "markdown",
   "id": "4e9e52c9",
   "metadata": {},
   "source": [
    "18. **Sorting and Limiting Top Recommendations:** We sort the distinct recommendations by predicted rating in descending order, limiting the results to the top 10 recommendations using the limit(10) method.\n",
    "19. **Displaying Top Recommendations:** Finally, we display the top 10 recommended movies with their titles, movie IDs, and predicted ratings, providing cineSYNC users with a concise and personalized list of movie recommendations."
   ]
  },
  {
   "cell_type": "code",
   "execution_count": 39,
   "id": "53e153a6",
   "metadata": {},
   "outputs": [
    {
     "name": "stderr",
     "output_type": "stream",
     "text": [
      "23/11/13 19:19:00 WARN SparkStringUtils: Truncated the string representation of a plan since it was too large. This behavior can be adjusted by setting 'spark.sql.debug.maxToStringFields'.\n",
      "                                                                                \r"
     ]
    },
    {
     "name": "stdout",
     "output_type": "stream",
     "text": [
      "+-------+-------------------------------------------+----------+\n",
      "|movieId|title                                      |prediction|\n",
      "+-------+-------------------------------------------+----------+\n",
      "|1234   |Sting, The (1973)                          |4.993845  |\n",
      "|1203   |12 Angry Men (1957)                        |4.595272  |\n",
      "|2700   |South Park: Bigger, Longer and Uncut (1999)|4.4975853 |\n",
      "|3052   |Dogma (1999)                               |4.4910774 |\n",
      "|2324   |Life Is Beautiful (La Vita è bella) (1997) |4.482935  |\n",
      "|1278   |Young Frankenstein (1974)                  |4.4439654 |\n",
      "|1625   |Game, The (1997)                           |4.427182  |\n",
      "|51662  |300 (2007)                                 |4.376928  |\n",
      "|6874   |Kill Bill: Vol. 1 (2003)                   |4.358449  |\n",
      "|6      |Heat (1995)                                |4.2967734 |\n",
      "+-------+-------------------------------------------+----------+\n",
      "\n"
     ]
    }
   ],
   "source": [
    "# Sorting the predictions by predicted rating in descending order and limit to top 10\n",
    "top_10_recommendations = distinct_recommendations.orderBy(col('prediction').desc()).limit(10)\n",
    "\n",
    "# Showing the top 10 recommended movies with titles, movieId, and predictions\n",
    "top_10_recommendations.show(truncate=False)"
   ]
  },
  {
   "cell_type": "markdown",
   "id": "275306a6",
   "metadata": {},
   "source": [
    "Awesome! We now have an example of our ALS model in action, with a list showing recommended movie titles and their predicted ratings for user 123. Obviously, in the real world, user 123 would likely rate movies using whole numbers on a scale of 0 - 5.0, so the predicted ratings give us a continuous estimate and show us in what direction the user leans."
   ]
  },
  {
   "cell_type": "markdown",
   "id": "5c1c3ddd",
   "metadata": {},
   "source": [
    "### Evaluation\n",
    "As previously stated, we will be using evaluation metrics Root Mean Squared Error (RMSE) and Mean Absolute Error (MAE) across the board for consistency. RMSE measures the *average squared difference between the predicted and actual ratings, taking the square root of the result*. MAE measures the average absolute differences between predicted and actual ratings.\n",
    "\n",
    "Lower (relative closeness to 0) scores indicate a higher predictive accuracy for both metrics."
   ]
  },
  {
   "cell_type": "markdown",
   "id": "d5417229",
   "metadata": {},
   "source": [
    "1. **RMSE Evaluation:** We create a `RegressionEvaluator` object to calculate the RMSE. The evaluate method is then applied to the ALS model predictions (als_preds), and the resulting RMSE value is stored in the variable als_rmse. The calculated RMSE is then printed:"
   ]
  },
  {
   "cell_type": "code",
   "execution_count": 40,
   "id": "91189efe",
   "metadata": {},
   "outputs": [
    {
     "name": "stderr",
     "output_type": "stream",
     "text": [
      "                                                                                \r"
     ]
    },
    {
     "name": "stdout",
     "output_type": "stream",
     "text": [
      "ALS RMSE: 0.5675458807986751\n"
     ]
    }
   ],
   "source": [
    "# Creating a RegressionEvaluator for RMSE \n",
    "evaluator = RegressionEvaluator(metricName=\"rmse\", labelCol=\"rating\", predictionCol=\"prediction\")\n",
    "als_rmse = evaluator.evaluate(als_preds)\n",
    "\n",
    "# Printing RMSE score\n",
    "print(\"ALS RMSE:\", als_rmse)"
   ]
  },
  {
   "cell_type": "markdown",
   "id": "cf910a92",
   "metadata": {},
   "source": [
    "On average, the predicted ratings deviate from the actual ratings by approximately 0.57 units on a rating scale of 0 to 5."
   ]
  },
  {
   "cell_type": "markdown",
   "id": "bbc82ac8",
   "metadata": {},
   "source": [
    "2. **MAE Evaluation:** A separate `RegressionEvaluator` object is created for MAE. The evaluate method is applied to the ALS model predictions, and the resulting MAE value is stored in the variable als_mae. The printed output displays the calculated MAE, providing an additional metric to assess the accuracy of the ALS collaborative filtering model."
   ]
  },
  {
   "cell_type": "code",
   "execution_count": 41,
   "id": "c6ad5272",
   "metadata": {},
   "outputs": [
    {
     "name": "stderr",
     "output_type": "stream",
     "text": [
      "\r",
      "[Stage 189:>                                                        (0 + 4) / 4]\r"
     ]
    },
    {
     "name": "stdout",
     "output_type": "stream",
     "text": [
      "ALS MAE: 0.4511347670192109\n"
     ]
    },
    {
     "name": "stderr",
     "output_type": "stream",
     "text": [
      "\r",
      "                                                                                \r"
     ]
    }
   ],
   "source": [
    "# Creating a RegressionEvaluator for MAE\n",
    "mae_evaluator = RegressionEvaluator(metricName=\"mae\", labelCol=\"rating\", predictionCol=\"prediction\")\n",
    "als_mae = mae_evaluator.evaluate(als_preds)\n",
    "\n",
    "# Printing MAE score\n",
    "print(\"ALS MAE:\", als_mae)"
   ]
  },
  {
   "cell_type": "markdown",
   "id": "8e96a2c9",
   "metadata": {},
   "source": [
    "On average, the absolute difference between predicted and actual ratings is approximately 0.45 units on a rating scale of 0 to 5."
   ]
  },
  {
   "cell_type": "markdown",
   "id": "7658f47e",
   "metadata": {},
   "source": [
    "Both the RMSE and MAE values for our ALS model are under 1.0, indicating that the ALS collaborative filtering model is performing well in predicting user ratings. Users can expect the predicted ratings to be reasonably close to their actual ratings, making the model a promising tool for generating accurate movie recommendations within the collaborative filtering framework. "
   ]
  },
  {
   "cell_type": "markdown",
   "id": "40ae98a0",
   "metadata": {},
   "source": [
    "**NOTE:** *ALS is a stochastic algorithm. Stochastic algorithms introduce an element of randomness in their operations, leading to potentially different outcomes on each run, even with the same initial conditions. This randomness is intentional and often used to overcome challenges or limitations in deterministic algorithms. Though we took pains to set a seed for reproducibility of output, recommendations results and evaluation metrics may not be the same every time due to the distributed nature of Spark. However, running multiple iterations should provide insights into the stability of the recommendations.*"
   ]
  },
  {
   "cell_type": "markdown",
   "id": "e3df43fa",
   "metadata": {},
   "source": [
    "### Model 2: Singular Value Decomposition (SVD) with Surprise"
   ]
  },
  {
   "cell_type": "markdown",
   "id": "4f846126",
   "metadata": {},
   "source": [
    "#### What is SVD?\n",
    "In the realm of collaborative filtering for recommendation systems, our second model introduces Singular Value Decomposition (SVD) implemented with the Surprise library. SVD is a dimensionality reduction technique that transforms the user-item interaction matrix into a lower-dimensional representation of itself, capturing latent factors that contribute to user preferences. \n",
    "\n",
    "SVD decomposes the user-item interaction matrix into three matrices: `U` (user matrix), `Σ` (diagonal matrix of singular values), and `V^T` (item matrix transpose). By retaining only the top singular values, SVD reduces the dimensionality of the original matrix, revealing latent factors that represent underlying patterns in the data.\n",
    "\n",
    "While traditional supervised ML algorithms learn from labeled data with explicit input-output pairs, SVD (like ALS) utilizes implicit feedback from user-item interactions. In a supervised learning paradigm, SVD learns to predict user ratings (labels, whichh, although not explicitly labeled, serve as a form of implicit feedback that guides the learning process) for items based on historical ratings. The goal is to minimize the difference between predicted and actual ratings, just like a regression problem in supervised learning.\n",
    "\n",
    "#### Why Surprise?\n",
    "The Surprise library serves as a fitting choice for implementing SVD in our recommendation system. Here's why:\n",
    "- **Ease of Use:** Surprise abstracts away the complexity of SVD implementation, providing an intuitive interface that simplifies the integration of collaborative filtering algorithms.\n",
    "- **Efficient Algorithms:** Surprise is optimized for efficiency, leveraging well-established algorithms for collaborative filtering tasks. This efficiency is crucial, especially when working with large-scale datasets."
   ]
  },
  {
   "cell_type": "markdown",
   "id": "f263b62e",
   "metadata": {},
   "source": [
    "Before we begin, we will:\n",
    "\n",
    "1. Import crucial functions and classes from the Surprise library:\n",
    "- The `SVD` class implements the SVD algorithm.\n",
    "- The `train_test_split` function allows us to seamlessly divide our dataset into training and testing sets, facilitating robust model evaluation.\n",
    "- Surprise's `Dataset` and `Reader` classes play a pivotal role in preparing our data for the SVD model. The Reader class helps parse and define the rating scale of our dataset, while the Dataset class organizes the data into a format compatible with Surprise's recommendation algorithms."
   ]
  },
  {
   "cell_type": "code",
   "execution_count": 42,
   "id": "408ee599",
   "metadata": {},
   "outputs": [],
   "source": [
    "# Importing necessary classes and functions\n",
    "from surprise.model_selection import train_test_split\n",
    "from surprise import SVD\n",
    "from surprise import Dataset\n",
    "from surprise import Reader"
   ]
  },
  {
   "cell_type": "markdown",
   "id": "1236c64e",
   "metadata": {},
   "source": [
    "Next, we will:\n",
    "\n",
    "2. **Set a random seed** to 42. \n",
    "\n",
    "3. **Employ the `Reader` class** to define the rating scale, specifying that ratings range from 0.5 to 5.0. \n",
    "\n",
    "4. **Call the `Dataset.load_from_df` method** to load the user-item-rating data from the `movies_and_ratings_df` DataFrame into a Surprise-compatible format."
   ]
  },
  {
   "cell_type": "code",
   "execution_count": 43,
   "id": "5a45802f",
   "metadata": {},
   "outputs": [],
   "source": [
    "# Setting a fixed random seed for reproducibility\n",
    "random_seed = 42\n",
    "\n",
    "# Creating a Surprise Dataset\n",
    "reader = Reader(rating_scale=(0.5, 5.0))\n",
    "data = Dataset.load_from_df(movies_and_ratings_df[['userId', 'movieId', 'rating']], reader)"
   ]
  },
  {
   "cell_type": "markdown",
   "id": "f9c7b687",
   "metadata": {},
   "source": [
    "Now we will:\n",
    "\n",
    "5. **Split the data:** Apply the `train_test_split` function to split our data into train and test sets. With the addition of random_state=random_seed, we ensure that the split is deterministic, allowing us to consistently evaluate model performance across different iterations.\n",
    "\n",
    "6. **Specify algorithm:** With our data prepared, we can then proceed to specify our collaborative filtering algorithm. The `SVD` class from Surprise is instantiated, and the `random_state` parameter is set to our fixed random seed to maintain consistency."
   ]
  },
  {
   "cell_type": "code",
   "execution_count": 44,
   "id": "ba0de319",
   "metadata": {},
   "outputs": [],
   "source": [
    "# Splitting the dataset into train and test sets with the fixed random seed using Surprise\n",
    "trainset, testset = train_test_split(data, test_size=0.2, random_state=random_seed)\n",
    "\n",
    "# Specifying the algorithm\n",
    "algo = SVD(random_state=random_seed)"
   ]
  },
  {
   "cell_type": "markdown",
   "id": "996f59b4",
   "metadata": {},
   "source": [
    "The process of training the model and generating predictions is central to understanding and evaluating its performance. We will:\n",
    "\n",
    "7. **Fit the model** by calling the `fit` method train our collaborative filtering model on the training set (`trainset`).\n",
    "\n",
    "8. **Generate predictions** by calling the `test` method to generate predictions on the testing set (`testset`)."
   ]
  },
  {
   "cell_type": "code",
   "execution_count": 45,
   "id": "83c5da69",
   "metadata": {},
   "outputs": [],
   "source": [
    "# Training the model\n",
    "algo.fit(trainset)\n",
    "\n",
    "# Making predictions on the test set\n",
    "algo_preds = algo.test(testset)"
   ]
  },
  {
   "cell_type": "markdown",
   "id": "2a53ea55",
   "metadata": {},
   "source": [
    "Now it's time to put the model to action and generate a list of unrated recommended movie titles for a given user. We will:\n",
    "\n",
    "9. **Set the user as user 300.** This user's data will be used to predict ratings for unrated movies and recommend titles.\n",
    "\n",
    "10. **Generate Unrated Movies List:** The `user_rated_movies` list is created by extracting the movie IDs that the user has already rated. It is derived from the testset variable, which likely contains the user's past interactions with movies. The `unrated_movies` list is generated by comparing all available movie IDs in the training set (trainset) with the movies that the user has rated. The result is a list of movies that the user has not yet rated, hence deemed \"unrated.\"\n",
    "\n",
    "11. **Predict Ratings for Unrated Movies:** The `predictions` list is formed by iterating over the `unrated_movies` list. For each movie ID in this list, the Surprise SVD model (`algo`) is used to predict the user's rating. The predictions are stored as tuples, where each tuple contains the movie ID and the predicted rating for User 300."
   ]
  },
  {
   "cell_type": "code",
   "execution_count": 52,
   "id": "fe9a199b",
   "metadata": {},
   "outputs": [],
   "source": [
    "# Setting the user ID to 300\n",
    "user_id_to_predict = 300\n",
    "\n",
    "# Generating a list of unrated movies for the specified user\n",
    "user_rated_movies = [movie[1] for movie in testset if movie[0] == user_id_to_predict]\n",
    "unrated_movies = [movie_id for movie_id in trainset.all_items() if movie_id not in user_rated_movies]\n",
    "\n",
    "# Creating a list of tuples containing (movie_id, predicted_rating) for unrated movies\n",
    "predictions = [(movie_id, algo.predict(user_id_to_predict, movie_id).est) for movie_id in unrated_movies]"
   ]
  },
  {
   "cell_type": "markdown",
   "id": "d93ac93a",
   "metadata": {},
   "source": [
    "Next, we will:\n",
    "\n",
    "12. **Sort Predictions:** The `top_10_recommendations` list of predictions is sorted in descending order based on the predicted ratings. The `key` function in the sorting process extracts the rating from each tuple.\n",
    "\n",
    "13. **Fetch Movie Titles and Ratings:** The `top_10_titles_and_ratings` list is initialized to store tuples containing movie titles and their predicted ratings for the top 10 recommendations. A loop iterates over the sorted predictions, retrieves the corresponding movie title from the DataFrame `movies_and_ratings_df` DataFrame, and appends the title-rating tuple to the list. A check ensures that the movie title array is not empty before accessing its first element to avoid errors.\n",
    "\n",
    "14. **Display Recommendations:** We present the top 10 movie recommendations to the user. The loop iterates over the `top_10_titles_and_ratings` list, displaying each movie's title and its predicted rating for user 300."
   ]
  },
  {
   "cell_type": "code",
   "execution_count": 57,
   "id": "e258da8b",
   "metadata": {},
   "outputs": [
    {
     "name": "stdout",
     "output_type": "stream",
     "text": [
      "1. Heat (1995) - Predicted Rating: 4.50\n",
      "2. Seven (a.k.a. Se7en) (1995) - Predicted Rating: 4.47\n",
      "3. Usual Suspects, The (1995) - Predicted Rating: 4.42\n",
      "4. Twelve Monkeys (a.k.a. 12 Monkeys) (1995) - Predicted Rating: 4.39\n",
      "5. Casino (1995) - Predicted Rating: 4.33\n",
      "6. Crimson Tide (1995) - Predicted Rating: 4.32\n",
      "7. Taxi Driver (1976) - Predicted Rating: 4.30\n",
      "8. Braveheart (1995) - Predicted Rating: 4.25\n",
      "9. Title Not Found - Predicted Rating: 4.21\n",
      "10. Title Not Found - Predicted Rating: 4.21\n"
     ]
    }
   ],
   "source": [
    "# Sorting the predictions by predicted rating in descending order\n",
    "top_10_recommendations = sorted(predictions, key=lambda x: x[1], reverse=True)[:10]\n",
    "\n",
    "# Get the corresponding movie titles and predicted ratings for the top 10 recommendations\n",
    "top_10_titles_and_ratings = []\n",
    "for movie_id, rating in top_10_recommendations:\n",
    "    movie_title_array = movies_and_ratings_df[movies_and_ratings_df['movieId'] == movie_id]['title'].values\n",
    "    if len(movie_title_array) > 0:\n",
    "        top_10_titles_and_ratings.append((movie_title_array[0], rating))\n",
    "    else:\n",
    "        # Handle the case where the movie title is not found\n",
    "        top_10_titles_and_ratings.append((\"Title Not Found\", rating))\n",
    "\n",
    "# Display the top 10 recommended movie titles and predicted ratings\n",
    "for i, (title, rating) in enumerate(top_10_titles_and_ratings, 1):\n",
    "    print(f\"{i}. {title} - Predicted Rating: {rating:.2f}\")"
   ]
  },
  {
   "cell_type": "markdown",
   "id": "aee564c1",
   "metadata": {},
   "source": [
    "Great! We now have a sample recommendation list generated for user 300 using our SVD algorithm! Again, in the real world, our user is not likely to give a rating of, say, 4.47 or 4.39. These are just estimates that tell us *around* which ratings the user is likely to give."
   ]
  },
  {
   "cell_type": "markdown",
   "id": "8d134286",
   "metadata": {},
   "source": [
    "### Evaluation\n",
    "It's time to evaluate our model using our agreed upon metrics: RMSE and MAE. To reiterate, a lower (relative closeness to 0) score indicates a higher accuracy for both metrics. Again, RMSE measures the *average squared difference between the predicted and actual ratings, taking the square root of the result*, and MAE measures the *average absolute differences between predicted and actual ratings*.\n",
    "\n",
    "To evaluate our SVD model, we will:\n",
    "\n",
    "1. Import the `accuracy` module from the Surprise library\n",
    "2. Call the `accuracy.rmse` function to compute the RMSE\n",
    "3. Call the `accuracy.mae` function to compute the MAE"
   ]
  },
  {
   "cell_type": "code",
   "execution_count": 58,
   "id": "2089e6ca",
   "metadata": {},
   "outputs": [],
   "source": [
    "# Importing accuracy module \n",
    "from surprise import accuracy"
   ]
  },
  {
   "cell_type": "code",
   "execution_count": 59,
   "id": "08ddef2f",
   "metadata": {},
   "outputs": [
    {
     "name": "stdout",
     "output_type": "stream",
     "text": [
      "RMSE: 0.4751\n",
      "MAE:  0.4044\n",
      "SVD Model RMSE: 0.47507184170545486\n",
      "SVD Model MAE: 0.40435890599639346\n"
     ]
    }
   ],
   "source": [
    "# Calculating RMSE and MAE evaluation metrics\n",
    "svd_rmse = accuracy.rmse(algo_preds)\n",
    "svd_mae = accuracy.mae(algo_preds)\n",
    "\n",
    "# Printing metrics\n",
    "print(f'SVD Model RMSE: {svd_rmse}')\n",
    "print(f'SVD Model MAE: {svd_mae}')"
   ]
  },
  {
   "cell_type": "markdown",
   "id": "1c853c12",
   "metadata": {},
   "source": [
    "Our SVD model's RMSE score is 0.475, indicating that, on average, the model's predictions deviate from *actual* ratings by around 0.4751 units. We see a slight improvement with our SVD model compared to our ALS model in RMSE, jumping down from ~0.57 to 0.48.\n",
    "\n",
    "Our SVD model's MAE score is 0.4044, indicating that, on average, the absolute difference between *predicted* and *actual* ratings is around 0.4044 units."
   ]
  },
  {
   "cell_type": "markdown",
   "id": "e8c8229f",
   "metadata": {},
   "source": [
    "### Model 3: KNNWithMeans with Surprise"
   ]
  },
  {
   "cell_type": "code",
   "execution_count": null,
   "id": "71d0d75b",
   "metadata": {},
   "outputs": [],
   "source": [
    "from surprise import KNNWithMeans"
   ]
  },
  {
   "cell_type": "code",
   "execution_count": null,
   "id": "d4540384",
   "metadata": {},
   "outputs": [],
   "source": [
    "# Create a Surprise Dataset\n",
    "reader = Reader(rating_scale=(1, 5))\n",
    "data = Dataset.load_from_df(movies_and_ratings_df[['userId', 'movieId', 'rating']], reader)\n",
    "\n",
    "# Build the training set\n",
    "trainset = data.build_full_trainset()"
   ]
  },
  {
   "cell_type": "code",
   "execution_count": null,
   "id": "635a6d0b",
   "metadata": {},
   "outputs": [],
   "source": [
    "# Create the KNNWithMeans model\n",
    "sim_options = {\n",
    "    'name': 'cosine',  # You can choose similarity options like 'cosine' or 'pearson'\n",
    "    'user_based': False,  # Set to True for item-based collaborative filtering\n",
    "}\n",
    "knn_model = KNNWithMeans(sim_options=sim_options)"
   ]
  },
  {
   "cell_type": "code",
   "execution_count": null,
   "id": "74ed522f",
   "metadata": {},
   "outputs": [],
   "source": [
    "# Fit the KNN model on the training data\n",
    "knn_model.fit(trainset)\n",
    "\n",
    "# Make predictions with both models\n",
    "knn_predictions = knn_model.test(testset)"
   ]
  },
  {
   "cell_type": "code",
   "execution_count": null,
   "id": "8e50a82d",
   "metadata": {},
   "outputs": [],
   "source": [
    "# Assuming you have user 57's ID and want recommendations for unrated movies\n",
    "user_id = 57\n",
    "\n",
    "# Get a list of all movie IDs\n",
    "all_movie_ids = movies_and_ratings_df['movieId'].unique()\n",
    "\n",
    "# Get movie IDs rated by user 57\n",
    "user_rated_movies = movies_and_ratings_df.loc[movies_and_ratings_df['userId'] == user_id, 'movieId']\n",
    "\n",
    "# Get unrated movies\n",
    "unrated_movies = list(set(all_movie_ids) - set(user_rated_movies))"
   ]
  },
  {
   "cell_type": "code",
   "execution_count": null,
   "id": "1d55df81",
   "metadata": {},
   "outputs": [],
   "source": [
    "# Create a list of (movieId, predicted_rating) for unrated movies\n",
    "recommendations = [(movie_id, knn_model.predict(user_id, movie_id).est) for movie_id in unrated_movies]\n",
    "\n",
    "# Sort the recommendations by predicted rating\n",
    "sorted_recommendations = sorted(recommendations, key=lambda x: x[1], reverse=True)"
   ]
  },
  {
   "cell_type": "code",
   "execution_count": null,
   "id": "067471aa",
   "metadata": {},
   "outputs": [],
   "source": [
    "# Print the top N recommendations\n",
    "top_n = 10\n",
    "for movie_id, predicted_rating in sorted_recommendations[:top_n]:\n",
    "    movie_title = movies_and_ratings_df.loc[movies_and_ratings_df['movieId'] == movie_id, 'title'].iloc[0]\n",
    "    print(f\"Movie ID: {movie_id}, Title: {movie_title}, Predicted Rating: {predicted_rating}\")"
   ]
  },
  {
   "cell_type": "code",
   "execution_count": null,
   "id": "0fbb8d4d",
   "metadata": {},
   "outputs": [],
   "source": [
    "# Calculate RMSE and MAE\n",
    "knn_rmse = accuracy.rmse(knn_predictions)\n",
    "knn_mae = accuracy.mae(knn_predictions)\n",
    "\n",
    "print(f'KNN Model RMSE: {knn_rmse}')\n",
    "print(f'KNN Model MAE: {knn_mae}')"
   ]
  },
  {
   "cell_type": "markdown",
   "id": "356accde",
   "metadata": {},
   "source": [
    "### Model 4: KNNWithMeans - Tuned Hyperparameters"
   ]
  },
  {
   "cell_type": "code",
   "execution_count": null,
   "id": "043d198c",
   "metadata": {},
   "outputs": [],
   "source": [
    "# Create a Surprise Dataset\n",
    "reader = Reader(rating_scale=(1, 5))\n",
    "data = Dataset.load_from_df(movies_and_ratings_df[['userId', 'movieId', 'rating']], reader)\n",
    "\n",
    "# Build the training set\n",
    "trainset = data.build_full_trainset()\n",
    "\n",
    "# Create the KNNWithMeans model with tuned hyperparameters\n",
    "sim_options = {\n",
    "    'name': 'cosine',\n",
    "    'user_based': False,\n",
    "    'min_support': 10,  # Minimum number of common users to consider for similarity\n",
    "    'shrinkage': 300,  # Shrinkage parameter for regularization\n",
    "}\n",
    "knn_model2 = KNNWithMeans(sim_options=sim_options, k=10)  # You can also tune the number of neighbors (k)\n",
    "\n",
    "# Fit the KNN model on the training data\n",
    "knn_model2.fit(trainset)\n",
    "\n",
    "# Make predictions with the second KNN model\n",
    "knn_predictions2 = knn_model2.test(testset)\n"
   ]
  },
  {
   "cell_type": "code",
   "execution_count": null,
   "id": "3eb428a5",
   "metadata": {},
   "outputs": [],
   "source": [
    "# Calculate RMSE and MAE\n",
    "knn2_rmse = accuracy.rmse(knn_predictions2)\n",
    "knn2_mae = accuracy.mae(knn_predictions2)\n",
    "\n",
    "print(f'KNN Model RMSE: {knn2_rmse}')\n",
    "print(f'KNN Model MAE: {knn2_mae}')"
   ]
  },
  {
   "cell_type": "markdown",
   "id": "2ca0146e",
   "metadata": {},
   "source": [
    "next steps...\n",
    "discuss NDCG insltead oof RMSE, limits to RMSE and MAE\n"
   ]
  },
  {
   "cell_type": "code",
   "execution_count": null,
   "id": "6ccae4e4",
   "metadata": {},
   "outputs": [],
   "source": []
  }
 ],
 "metadata": {
  "kernelspec": {
   "display_name": "Python 3 (ipykernel)",
   "language": "python",
   "name": "python3"
  },
  "language_info": {
   "codemirror_mode": {
    "name": "ipython",
    "version": 3
   },
   "file_extension": ".py",
   "mimetype": "text/x-python",
   "name": "python",
   "nbconvert_exporter": "python",
   "pygments_lexer": "ipython3",
   "version": "3.8.18"
  }
 },
 "nbformat": 4,
 "nbformat_minor": 5
}
