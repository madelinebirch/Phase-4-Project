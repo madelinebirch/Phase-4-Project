{
 "cells": [
  {
   "cell_type": "markdown",
   "id": "c93b960b",
   "metadata": {},
   "source": [
    "# TITLE"
   ]
  },
  {
   "cell_type": "markdown",
   "id": "a4b9973d",
   "metadata": {},
   "source": [
    "# CONTENTS"
   ]
  },
  {
   "cell_type": "markdown",
   "id": "2e63f163",
   "metadata": {},
   "source": [
    "# I. BUSINESS UNDERSTANDING"
   ]
  },
  {
   "cell_type": "markdown",
   "id": "815de1c1",
   "metadata": {},
   "source": [
    "# II. DATA UNDERSTANDING"
   ]
  },
  {
   "cell_type": "markdown",
   "id": "2ad1d7c0",
   "metadata": {},
   "source": [
    "**Iteration 1:** Collaborative Filtering Using Matrix Factorization\n",
    "\n",
    "Implement collaborative filtering with Matrix Factorization using ALS.\n",
    "Evaluate the model using RMSE or MAE.\n",
    "Generate top-5 movie recommendations for users.\n",
    "\n",
    "**Iteration 2:** Hybrid Approach with Content-Based Filtering\n",
    "\n",
    "Combine collaborative and content-based recommendations.\n",
    "Re-evaluate the hybrid model.\n",
    "Compare scores with the pure collaborative filtering model from Iteration 1.\n",
    "\n",
    "**Iteration 3:** Addressing the Cold Start Problem\n",
    "\n",
    "Implement a temporary solution for new users (cold start) using demographics or movie popularity.\n",
    "Enhance the model with implicit feedback or deep learning approaches.\n",
    "Validate the cold start handling mechanism.\n",
    "\n",
    "**Iteration 4:** Implementing Surprise for Collaborative Filtering\n",
    "\n",
    "Integrate the Surprise library.\n",
    "Choose and optimize collaborative filtering algorithms from Surprise.\n",
    "Evaluate the model using Surprise's metrics.\n",
    "Generate top-5 movie recommendations for users using the best-performing Surprise-based collaborative filtering model. Compare to past model iterations."
   ]
  },
  {
   "cell_type": "code",
   "execution_count": 1,
   "id": "b77921e9",
   "metadata": {},
   "outputs": [],
   "source": [
    "import pandas as pd\n",
    "\n",
    "from pyspark.sql import SparkSession\n",
    "from pyspark.ml.recommendation import ALS\n",
    "from pyspark.sql.functions import expr, explode, col\n",
    "from pyspark.sql.types import StructType, StructField, IntegerType, FloatType\n",
    "\n",
    "from pyspark.sql.functions import abs, col\n",
    "from pyspark.ml.evaluation import RegressionEvaluator\n",
    "\n",
    "\n",
    "from surprise import Dataset, Reader, SVD\n",
    "from surprise.model_selection import train_test_split\n",
    "from surprise import accuracy"
   ]
  },
  {
   "cell_type": "code",
   "execution_count": 2,
   "id": "934cc1f4",
   "metadata": {},
   "outputs": [],
   "source": [
    "ratings_df = pd.read_csv('Data/ratings.csv')\n",
    "movies_df = pd.read_csv('Data/movies.csv')\n",
    "tags_df = pd.read_csv('Data/tags.csv')\n",
    "links_df = pd.read_csv('Data/links.csv')"
   ]
  },
  {
   "cell_type": "code",
   "execution_count": 3,
   "id": "02142959",
   "metadata": {},
   "outputs": [
    {
     "data": {
      "text/html": [
       "<div>\n",
       "<style scoped>\n",
       "    .dataframe tbody tr th:only-of-type {\n",
       "        vertical-align: middle;\n",
       "    }\n",
       "\n",
       "    .dataframe tbody tr th {\n",
       "        vertical-align: top;\n",
       "    }\n",
       "\n",
       "    .dataframe thead th {\n",
       "        text-align: right;\n",
       "    }\n",
       "</style>\n",
       "<table border=\"1\" class=\"dataframe\">\n",
       "  <thead>\n",
       "    <tr style=\"text-align: right;\">\n",
       "      <th></th>\n",
       "      <th>userId</th>\n",
       "      <th>movieId</th>\n",
       "      <th>rating</th>\n",
       "      <th>timestamp</th>\n",
       "    </tr>\n",
       "  </thead>\n",
       "  <tbody>\n",
       "    <tr>\n",
       "      <th>0</th>\n",
       "      <td>1</td>\n",
       "      <td>1</td>\n",
       "      <td>4.0</td>\n",
       "      <td>964982703</td>\n",
       "    </tr>\n",
       "    <tr>\n",
       "      <th>1</th>\n",
       "      <td>1</td>\n",
       "      <td>3</td>\n",
       "      <td>4.0</td>\n",
       "      <td>964981247</td>\n",
       "    </tr>\n",
       "    <tr>\n",
       "      <th>2</th>\n",
       "      <td>1</td>\n",
       "      <td>6</td>\n",
       "      <td>4.0</td>\n",
       "      <td>964982224</td>\n",
       "    </tr>\n",
       "    <tr>\n",
       "      <th>3</th>\n",
       "      <td>1</td>\n",
       "      <td>47</td>\n",
       "      <td>5.0</td>\n",
       "      <td>964983815</td>\n",
       "    </tr>\n",
       "    <tr>\n",
       "      <th>4</th>\n",
       "      <td>1</td>\n",
       "      <td>50</td>\n",
       "      <td>5.0</td>\n",
       "      <td>964982931</td>\n",
       "    </tr>\n",
       "  </tbody>\n",
       "</table>\n",
       "</div>"
      ],
      "text/plain": [
       "   userId  movieId  rating  timestamp\n",
       "0       1        1     4.0  964982703\n",
       "1       1        3     4.0  964981247\n",
       "2       1        6     4.0  964982224\n",
       "3       1       47     5.0  964983815\n",
       "4       1       50     5.0  964982931"
      ]
     },
     "execution_count": 3,
     "metadata": {},
     "output_type": "execute_result"
    }
   ],
   "source": [
    "ratings_df.head()"
   ]
  },
  {
   "cell_type": "code",
   "execution_count": 4,
   "id": "8eb567ee",
   "metadata": {},
   "outputs": [
    {
     "data": {
      "text/html": [
       "<div>\n",
       "<style scoped>\n",
       "    .dataframe tbody tr th:only-of-type {\n",
       "        vertical-align: middle;\n",
       "    }\n",
       "\n",
       "    .dataframe tbody tr th {\n",
       "        vertical-align: top;\n",
       "    }\n",
       "\n",
       "    .dataframe thead th {\n",
       "        text-align: right;\n",
       "    }\n",
       "</style>\n",
       "<table border=\"1\" class=\"dataframe\">\n",
       "  <thead>\n",
       "    <tr style=\"text-align: right;\">\n",
       "      <th></th>\n",
       "      <th>movieId</th>\n",
       "      <th>title</th>\n",
       "      <th>genres</th>\n",
       "    </tr>\n",
       "  </thead>\n",
       "  <tbody>\n",
       "    <tr>\n",
       "      <th>0</th>\n",
       "      <td>1</td>\n",
       "      <td>Toy Story (1995)</td>\n",
       "      <td>Adventure|Animation|Children|Comedy|Fantasy</td>\n",
       "    </tr>\n",
       "    <tr>\n",
       "      <th>1</th>\n",
       "      <td>2</td>\n",
       "      <td>Jumanji (1995)</td>\n",
       "      <td>Adventure|Children|Fantasy</td>\n",
       "    </tr>\n",
       "    <tr>\n",
       "      <th>2</th>\n",
       "      <td>3</td>\n",
       "      <td>Grumpier Old Men (1995)</td>\n",
       "      <td>Comedy|Romance</td>\n",
       "    </tr>\n",
       "    <tr>\n",
       "      <th>3</th>\n",
       "      <td>4</td>\n",
       "      <td>Waiting to Exhale (1995)</td>\n",
       "      <td>Comedy|Drama|Romance</td>\n",
       "    </tr>\n",
       "    <tr>\n",
       "      <th>4</th>\n",
       "      <td>5</td>\n",
       "      <td>Father of the Bride Part II (1995)</td>\n",
       "      <td>Comedy</td>\n",
       "    </tr>\n",
       "  </tbody>\n",
       "</table>\n",
       "</div>"
      ],
      "text/plain": [
       "   movieId                               title  \\\n",
       "0        1                    Toy Story (1995)   \n",
       "1        2                      Jumanji (1995)   \n",
       "2        3             Grumpier Old Men (1995)   \n",
       "3        4            Waiting to Exhale (1995)   \n",
       "4        5  Father of the Bride Part II (1995)   \n",
       "\n",
       "                                        genres  \n",
       "0  Adventure|Animation|Children|Comedy|Fantasy  \n",
       "1                   Adventure|Children|Fantasy  \n",
       "2                               Comedy|Romance  \n",
       "3                         Comedy|Drama|Romance  \n",
       "4                                       Comedy  "
      ]
     },
     "execution_count": 4,
     "metadata": {},
     "output_type": "execute_result"
    }
   ],
   "source": [
    "movies_df.head()"
   ]
  },
  {
   "cell_type": "code",
   "execution_count": 5,
   "id": "7f7be402",
   "metadata": {},
   "outputs": [
    {
     "data": {
      "text/plain": [
       "(100836, 4)"
      ]
     },
     "execution_count": 5,
     "metadata": {},
     "output_type": "execute_result"
    }
   ],
   "source": [
    "ratings_df.shape"
   ]
  },
  {
   "cell_type": "code",
   "execution_count": 6,
   "id": "15b6b372",
   "metadata": {},
   "outputs": [
    {
     "data": {
      "text/html": [
       "<div>\n",
       "<style scoped>\n",
       "    .dataframe tbody tr th:only-of-type {\n",
       "        vertical-align: middle;\n",
       "    }\n",
       "\n",
       "    .dataframe tbody tr th {\n",
       "        vertical-align: top;\n",
       "    }\n",
       "\n",
       "    .dataframe thead th {\n",
       "        text-align: right;\n",
       "    }\n",
       "</style>\n",
       "<table border=\"1\" class=\"dataframe\">\n",
       "  <thead>\n",
       "    <tr style=\"text-align: right;\">\n",
       "      <th></th>\n",
       "      <th>userId</th>\n",
       "      <th>movieId</th>\n",
       "      <th>rating</th>\n",
       "      <th>timestamp</th>\n",
       "    </tr>\n",
       "  </thead>\n",
       "  <tbody>\n",
       "    <tr>\n",
       "      <th>count</th>\n",
       "      <td>100836.000000</td>\n",
       "      <td>100836.000000</td>\n",
       "      <td>100836.000000</td>\n",
       "      <td>1.008360e+05</td>\n",
       "    </tr>\n",
       "    <tr>\n",
       "      <th>mean</th>\n",
       "      <td>326.127564</td>\n",
       "      <td>19435.295718</td>\n",
       "      <td>3.501557</td>\n",
       "      <td>1.205946e+09</td>\n",
       "    </tr>\n",
       "    <tr>\n",
       "      <th>std</th>\n",
       "      <td>182.618491</td>\n",
       "      <td>35530.987199</td>\n",
       "      <td>1.042529</td>\n",
       "      <td>2.162610e+08</td>\n",
       "    </tr>\n",
       "    <tr>\n",
       "      <th>min</th>\n",
       "      <td>1.000000</td>\n",
       "      <td>1.000000</td>\n",
       "      <td>0.500000</td>\n",
       "      <td>8.281246e+08</td>\n",
       "    </tr>\n",
       "    <tr>\n",
       "      <th>25%</th>\n",
       "      <td>177.000000</td>\n",
       "      <td>1199.000000</td>\n",
       "      <td>3.000000</td>\n",
       "      <td>1.019124e+09</td>\n",
       "    </tr>\n",
       "    <tr>\n",
       "      <th>50%</th>\n",
       "      <td>325.000000</td>\n",
       "      <td>2991.000000</td>\n",
       "      <td>3.500000</td>\n",
       "      <td>1.186087e+09</td>\n",
       "    </tr>\n",
       "    <tr>\n",
       "      <th>75%</th>\n",
       "      <td>477.000000</td>\n",
       "      <td>8122.000000</td>\n",
       "      <td>4.000000</td>\n",
       "      <td>1.435994e+09</td>\n",
       "    </tr>\n",
       "    <tr>\n",
       "      <th>max</th>\n",
       "      <td>610.000000</td>\n",
       "      <td>193609.000000</td>\n",
       "      <td>5.000000</td>\n",
       "      <td>1.537799e+09</td>\n",
       "    </tr>\n",
       "  </tbody>\n",
       "</table>\n",
       "</div>"
      ],
      "text/plain": [
       "              userId        movieId         rating     timestamp\n",
       "count  100836.000000  100836.000000  100836.000000  1.008360e+05\n",
       "mean      326.127564   19435.295718       3.501557  1.205946e+09\n",
       "std       182.618491   35530.987199       1.042529  2.162610e+08\n",
       "min         1.000000       1.000000       0.500000  8.281246e+08\n",
       "25%       177.000000    1199.000000       3.000000  1.019124e+09\n",
       "50%       325.000000    2991.000000       3.500000  1.186087e+09\n",
       "75%       477.000000    8122.000000       4.000000  1.435994e+09\n",
       "max       610.000000  193609.000000       5.000000  1.537799e+09"
      ]
     },
     "execution_count": 6,
     "metadata": {},
     "output_type": "execute_result"
    }
   ],
   "source": [
    "ratings_df.describe()"
   ]
  },
  {
   "cell_type": "code",
   "execution_count": 7,
   "id": "0d37d472",
   "metadata": {},
   "outputs": [
    {
     "data": {
      "text/plain": [
       "userId       0\n",
       "movieId      0\n",
       "rating       0\n",
       "timestamp    0\n",
       "dtype: int64"
      ]
     },
     "execution_count": 7,
     "metadata": {},
     "output_type": "execute_result"
    }
   ],
   "source": [
    "ratings_df.isnull().sum()"
   ]
  },
  {
   "cell_type": "markdown",
   "id": "00e7ba14",
   "metadata": {},
   "source": [
    "It looks like our \"ratings_df\" is in good shape with no missing values. We have a dataset with 100,836 ratings from 610 unique users for various movies. The \"movieId\" column contains IDs for the movies, which range from 1 to 193,609. User ratings range from 0.5 to 5.0, with an average rating of approximately 3.50. The \"timestamp\" column contains timestamp information, which might not be directly relevant for collaborative filtering but can be used for time-based recommendations or analysis. With a clean and well-structured dataset, we can proceed with a collaborative filtering approach to our first model iteration."
   ]
  },
  {
   "cell_type": "markdown",
   "id": "b75bf1a8",
   "metadata": {},
   "source": [
    "# MODELING"
   ]
  },
  {
   "cell_type": "markdown",
   "id": "837e5cd5",
   "metadata": {},
   "source": [
    "## Matrix Factorization with ALS -  PySpark"
   ]
  },
  {
   "cell_type": "code",
   "execution_count": 8,
   "id": "18435551",
   "metadata": {},
   "outputs": [
    {
     "name": "stderr",
     "output_type": "stream",
     "text": [
      "Setting default log level to \"WARN\".\n",
      "To adjust logging level use sc.setLogLevel(newLevel). For SparkR, use setLogLevel(newLevel).\n",
      "23/11/05 11:13:33 WARN NativeCodeLoader: Unable to load native-hadoop library for your platform... using builtin-java classes where applicable\n",
      "23/11/05 11:13:45 WARN GarbageCollectionMetrics: To enable non-built-in garbage collector(s) List(G1 Concurrent GC), users should configure it(them) to spark.eventLog.gcMetrics.youngGenerationGarbageCollectors or spark.eventLog.gcMetrics.oldGenerationGarbageCollectors\n",
      "23/11/05 11:13:46 WARN InstanceBuilder: Failed to load implementation from:dev.ludovic.netlib.blas.JNIBLAS\n",
      "23/11/05 11:13:46 WARN InstanceBuilder: Failed to load implementation from:dev.ludovic.netlib.blas.VectorBLAS\n",
      "23/11/05 11:13:47 WARN InstanceBuilder: Failed to load implementation from:dev.ludovic.netlib.lapack.JNILAPACK\n",
      "[Stage 77:=====================================================> (97 + 3) / 100]\r"
     ]
    },
    {
     "name": "stdout",
     "output_type": "stream",
     "text": [
      "+------+-------+---------------+\n",
      "|userId|movieId|predictedRating|\n",
      "+------+-------+---------------+\n",
      "|     1|   6380|        7.36554|\n",
      "|     1|   2693|       7.282355|\n",
      "|     1|   3846|      6.5048866|\n",
      "|     1|    232|      6.4766016|\n",
      "|     1|    971|      6.3779616|\n",
      "+------+-------+---------------+\n",
      "\n"
     ]
    },
    {
     "name": "stderr",
     "output_type": "stream",
     "text": [
      "\r",
      "                                                                                \r"
     ]
    }
   ],
   "source": [
    "# Create a Spark session\n",
    "spark = SparkSession.builder.appName(\"MovieRecommendations\").getOrCreate()\n",
    "\n",
    "# Convert your ratings data to a Spark DataFrame\n",
    "ratings_spark = spark.createDataFrame(filtered_ratings_df)\n",
    "\n",
    "# Define ALS model parameters\n",
    "als = ALS(\n",
    "    rank=10,              # Number of latent factors (you can adjust this)\n",
    "    maxIter=10,           # Number of iterations\n",
    "    regParam=0.01,        # Regularization parameter (you can adjust this)\n",
    "    userCol=\"userId\",\n",
    "    itemCol=\"movieId\",\n",
    "    ratingCol=\"rating\",\n",
    ")\n",
    "\n",
    "# Fit the ALS model (includes matrix factorization) to the entire dataset\n",
    "als_model = als.fit(ratings_spark)\n",
    "\n",
    "# Generate recommendations for all users\n",
    "user_recommendations = als_model.recommendForAllUsers(10)  # Number of recommendations per user\n",
    "\n",
    "# Filter recommendations for a specific user (e.g., user with ID 1)\n",
    "user_id = 1\n",
    "user_recommendations = user_recommendations.filter(col(\"userId\") == user_id)\n",
    "\n",
    "# Extract and rename columns for readability\n",
    "user_recommendations = user_recommendations.select(\n",
    "    col(\"userId\"),\n",
    "    explode(col(\"recommendations\")).alias(\"recommendations\")\n",
    ")\n",
    "\n",
    "# Extract movieId and rating from the recommendations struct\n",
    "user_recommendations = user_recommendations.select(\n",
    "    \"userId\",\n",
    "    col(\"recommendations.movieId\").alias(\"movieId\"),\n",
    "    col(\"recommendations.rating\").alias(\"predictedRating\")\n",
    ")\n",
    "\n",
    "# Sort the recommendations by predicted rating in descending order\n",
    "user_recommendations = user_recommendations.orderBy(col(\"predictedRating\").desc())\n",
    "\n",
    "user_recommendations.show()"
   ]
  },
  {
   "cell_type": "code",
   "execution_count": 9,
   "id": "e7e7ee8f",
   "metadata": {},
   "outputs": [
    {
     "name": "stderr",
     "output_type": "stream",
     "text": [
      "[Stage 160:>                                                        (0 + 2) / 2]\r"
     ]
    },
    {
     "name": "stdout",
     "output_type": "stream",
     "text": [
      "Root Mean Squared Error (RMSE) on the entire dataset: 0.50513894782959\n"
     ]
    },
    {
     "name": "stderr",
     "output_type": "stream",
     "text": [
      "\r",
      "                                                                                \r"
     ]
    }
   ],
   "source": [
    "# Evaluate the model on the entire dataset using RMSE\n",
    "predictions = als_model.transform(ratings_spark)\n",
    "evaluator = RegressionEvaluator(metricName=\"rmse\", labelCol=\"rating\", predictionCol=\"prediction\")\n",
    "rmse = evaluator.evaluate(predictions)\n",
    "print(f\"Root Mean Squared Error (RMSE) on the entire dataset: {rmse}\")"
   ]
  },
  {
   "cell_type": "code",
   "execution_count": 11,
   "id": "980e9841",
   "metadata": {},
   "outputs": [
    {
     "name": "stderr",
     "output_type": "stream",
     "text": [
      "                                                                                \r"
     ]
    },
    {
     "name": "stdout",
     "output_type": "stream",
     "text": [
      "Mean Absolute Error (MAE) on the entire dataset: 0.35528256076354925\n"
     ]
    }
   ],
   "source": [
    "# Calculate the absolute difference between the actual rating and predicted rating\n",
    "predictions = als_model.transform(ratings_spark)\n",
    "predictions = predictions.withColumn(\"abs_diff\", abs(col(\"rating\") - col(\"prediction\")))\n",
    "\n",
    "# Calculate the mean of the absolute differences\n",
    "mae = predictions.select(\"abs_diff\").agg({\"abs_diff\": \"mean\"}).collect()[0][0]\n",
    "\n",
    "# Print the MAE\n",
    "print(f\"Mean Absolute Error (MAE) on the entire dataset: {mae}\")"
   ]
  },
  {
   "cell_type": "markdown",
   "id": "22c22dd9",
   "metadata": {},
   "source": [
    "## Surprise collab filtering model: matrix factorization with SVD"
   ]
  },
  {
   "cell_type": "code",
   "execution_count": 12,
   "id": "a9b7934b",
   "metadata": {},
   "outputs": [],
   "source": [
    "# Create a Surprise dataset from the ratings data in ratings_df\n",
    "reader = Reader(rating_scale=(1, 5))\n",
    "data = Dataset.load_from_df(ratings_df[['userId', 'movieId', 'rating']], reader)"
   ]
  },
  {
   "cell_type": "code",
   "execution_count": 13,
   "id": "98050df7",
   "metadata": {},
   "outputs": [],
   "source": [
    "# Split the data into training and testing sets\n",
    "trainset, testset = train_test_split(data, test_size=0.2, random_state=42)"
   ]
  },
  {
   "cell_type": "code",
   "execution_count": 14,
   "id": "a1f27913",
   "metadata": {},
   "outputs": [],
   "source": [
    "# Initialize the SVD algorithm\n",
    "surprise_model_1 = SVD(n_factors=100, n_epochs=20, random_state=42)"
   ]
  },
  {
   "cell_type": "code",
   "execution_count": 15,
   "id": "9586d726",
   "metadata": {},
   "outputs": [],
   "source": [
    "# Train the model on the training set\n",
    "surprise_model_1.fit(trainset)\n",
    "\n",
    "# Make predictions on the test set\n",
    "surprise_preds = surprise_model_1.test(testset)"
   ]
  },
  {
   "cell_type": "code",
   "execution_count": 16,
   "id": "99c4f2a8",
   "metadata": {},
   "outputs": [],
   "source": [
    "# Now, you can make recommendations for a specific user\n",
    "user_id = 100  # Change this to the user for whom you want to make recommendations\n",
    "user_movies = ratings_df[ratings_df['userId'] == user_id]['movieId']"
   ]
  },
  {
   "cell_type": "code",
   "execution_count": 17,
   "id": "c9b3d801",
   "metadata": {},
   "outputs": [],
   "source": [
    "# Get a list of movies the user has not rated\n",
    "all_movies = ratings_df['movieId'].unique()\n",
    "unrated_movies = set(all_movies) - set(user_movies)"
   ]
  },
  {
   "cell_type": "code",
   "execution_count": 18,
   "id": "9a69f40b",
   "metadata": {},
   "outputs": [],
   "source": [
    "# Predict ratings for unrated movies\n",
    "user_ratings = []\n",
    "for movie_id in unrated_movies:\n",
    "    pred = surprise_model_1.predict(user_id, movie_id)\n",
    "    user_ratings.append((movie_id, pred.est))"
   ]
  },
  {
   "cell_type": "code",
   "execution_count": 19,
   "id": "df8c9603",
   "metadata": {},
   "outputs": [],
   "source": [
    "# Sort the predicted ratings in descending order\n",
    "user_ratings.sort(key=lambda x: x[1], reverse=True)\n",
    "\n",
    "# Get the top N recommended movies (e.g., top 10)\n",
    "top_n = 10\n",
    "recommended_movies = user_ratings[:top_n]"
   ]
  },
  {
   "cell_type": "code",
   "execution_count": 20,
   "id": "7b2f9b1e",
   "metadata": {},
   "outputs": [
    {
     "name": "stdout",
     "output_type": "stream",
     "text": [
      "Top 10 recommended movies for user 100:\n",
      "Boondock Saints, The (2000) (Estimated Rating: 4.65)\n",
      "Boot, Das (Boat, The) (1981) (Estimated Rating: 4.60)\n",
      "Braveheart (1995) (Estimated Rating: 4.59)\n",
      "In the Name of the Father (1993) (Estimated Rating: 4.59)\n",
      "Rear Window (1954) (Estimated Rating: 4.58)\n",
      "Third Man, The (1949) (Estimated Rating: 4.58)\n",
      "Casablanca (1942) (Estimated Rating: 4.58)\n",
      "Some Like It Hot (1959) (Estimated Rating: 4.57)\n",
      "Seventh Seal, The (Sjunde inseglet, Det) (1957) (Estimated Rating: 4.56)\n",
      "Seven Samurai (Shichinin no samurai) (1954) (Estimated Rating: 4.55)\n"
     ]
    }
   ],
   "source": [
    "# Print the recommended movies\n",
    "print(f'Top {top_n} recommended movies for user {user_id}:')\n",
    "for movie_id, estimated_rating in recommended_movies:\n",
    "    movie_title = movies_df[movies_df['movieId'] == movie_id]['title'].values[0]\n",
    "    print(f'{movie_title} (Estimated Rating: {estimated_rating:.2f})')"
   ]
  },
  {
   "cell_type": "code",
   "execution_count": 21,
   "id": "8fc893d8",
   "metadata": {},
   "outputs": [
    {
     "name": "stdout",
     "output_type": "stream",
     "text": [
      "RMSE: 0.8807\n",
      "RMSE: 0.8807462819979623\n"
     ]
    }
   ],
   "source": [
    "# Evaluate the model's performance using RMSE (Root Mean Squared Error)\n",
    "rmse = accuracy.rmse(surprise_preds)\n",
    "print(f'RMSE: {rmse}')"
   ]
  },
  {
   "cell_type": "code",
   "execution_count": 22,
   "id": "e6236508",
   "metadata": {},
   "outputs": [
    {
     "name": "stdout",
     "output_type": "stream",
     "text": [
      "MAE:  0.6766\n",
      "MAE: 0.6765729095860605\n"
     ]
    }
   ],
   "source": [
    "# Calculate MAE (Mean Absolute Error)\n",
    "mae = accuracy.mae(surprise_preds)\n",
    "print(f'MAE: {mae}')"
   ]
  },
  {
   "cell_type": "markdown",
   "id": "f51ce2ad",
   "metadata": {},
   "source": [
    "## model 3: surprise matrix factorization with SVD - tuned hyperparameters"
   ]
  },
  {
   "cell_type": "code",
   "execution_count": 25,
   "id": "26f4d418",
   "metadata": {},
   "outputs": [
    {
     "name": "stdout",
     "output_type": "stream",
     "text": [
      "Training model with n_factors=100, n_epochs=20, and reg_all=0.02\n",
      "RMSE: 0.8807\n",
      "MAE:  0.6766\n",
      "RMSE: 0.8807462819979623, MAE: 0.6765729095860605\n",
      "Training model with n_factors=100, n_epochs=20, and reg_all=0.1\n",
      "RMSE: 0.8768\n",
      "MAE:  0.6747\n",
      "RMSE: 0.8768471300806494, MAE: 0.6746908977104873\n",
      "Training model with n_factors=100, n_epochs=20, and reg_all=0.2\n",
      "RMSE: 0.8804\n",
      "MAE:  0.6780\n",
      "RMSE: 0.8804417094197639, MAE: 0.6780371572841168\n",
      "Training model with n_factors=100, n_epochs=25, and reg_all=0.02\n",
      "RMSE: 0.8810\n",
      "MAE:  0.6760\n",
      "RMSE: 0.881006689163421, MAE: 0.6759554089170796\n",
      "Training model with n_factors=100, n_epochs=25, and reg_all=0.1\n",
      "RMSE: 0.8742\n",
      "MAE:  0.6722\n",
      "RMSE: 0.8741750964150049, MAE: 0.6721650045131462\n",
      "Training model with n_factors=100, n_epochs=25, and reg_all=0.2\n",
      "RMSE: 0.8786\n",
      "MAE:  0.6763\n",
      "RMSE: 0.8786425364637055, MAE: 0.676336252694741\n",
      "Training model with n_factors=100, n_epochs=30, and reg_all=0.02\n",
      "RMSE: 0.8827\n",
      "MAE:  0.6766\n",
      "RMSE: 0.8827039289713046, MAE: 0.676625096950452\n",
      "Training model with n_factors=100, n_epochs=30, and reg_all=0.1\n",
      "RMSE: 0.8718\n",
      "MAE:  0.6700\n",
      "RMSE: 0.8717573115369904, MAE: 0.6699612539157657\n",
      "Training model with n_factors=100, n_epochs=30, and reg_all=0.2\n",
      "RMSE: 0.8774\n",
      "MAE:  0.6751\n",
      "RMSE: 0.8773850878998067, MAE: 0.6751287077593385\n",
      "Training model with n_factors=150, n_epochs=20, and reg_all=0.02\n",
      "RMSE: 0.8848\n",
      "MAE:  0.6801\n",
      "RMSE: 0.8847626217658685, MAE: 0.6800841509072173\n",
      "Training model with n_factors=150, n_epochs=20, and reg_all=0.1\n",
      "RMSE: 0.8775\n",
      "MAE:  0.6750\n",
      "RMSE: 0.8774541306084719, MAE: 0.67496749343538\n",
      "Training model with n_factors=150, n_epochs=20, and reg_all=0.2\n",
      "RMSE: 0.8807\n",
      "MAE:  0.6782\n",
      "RMSE: 0.8806912023847475, MAE: 0.678213441013368\n",
      "Training model with n_factors=150, n_epochs=25, and reg_all=0.02\n",
      "RMSE: 0.8848\n",
      "MAE:  0.6798\n",
      "RMSE: 0.8848490184567541, MAE: 0.6798303570116369\n",
      "Training model with n_factors=150, n_epochs=25, and reg_all=0.1\n",
      "RMSE: 0.8747\n",
      "MAE:  0.6724\n",
      "RMSE: 0.874730954677849, MAE: 0.6723688715802406\n",
      "Training model with n_factors=150, n_epochs=25, and reg_all=0.2\n",
      "RMSE: 0.8788\n",
      "MAE:  0.6765\n",
      "RMSE: 0.8788403691559071, MAE: 0.6765082355034202\n",
      "Training model with n_factors=150, n_epochs=30, and reg_all=0.02\n",
      "RMSE: 0.8857\n",
      "MAE:  0.6805\n",
      "RMSE: 0.8857280647146102, MAE: 0.6805000752669313\n",
      "Training model with n_factors=150, n_epochs=30, and reg_all=0.1\n",
      "RMSE: 0.8723\n",
      "MAE:  0.6701\n",
      "RMSE: 0.8723167831719327, MAE: 0.6701020621784063\n",
      "Training model with n_factors=150, n_epochs=30, and reg_all=0.2\n",
      "RMSE: 0.8775\n",
      "MAE:  0.6753\n",
      "RMSE: 0.8775358657395468, MAE: 0.6752531872124006\n",
      "Training model with n_factors=200, n_epochs=20, and reg_all=0.02\n",
      "RMSE: 0.8829\n",
      "MAE:  0.6801\n",
      "RMSE: 0.8829346254402709, MAE: 0.6801329052108678\n",
      "Training model with n_factors=200, n_epochs=20, and reg_all=0.1\n",
      "RMSE: 0.8766\n",
      "MAE:  0.6748\n",
      "RMSE: 0.8765557633654258, MAE: 0.674753304734761\n",
      "Training model with n_factors=200, n_epochs=20, and reg_all=0.2\n",
      "RMSE: 0.8806\n",
      "MAE:  0.6782\n",
      "RMSE: 0.8806475454434362, MAE: 0.6782389392436438\n",
      "Training model with n_factors=200, n_epochs=25, and reg_all=0.02\n",
      "RMSE: 0.8821\n",
      "MAE:  0.6791\n",
      "RMSE: 0.8821313782388939, MAE: 0.6791281173188222\n",
      "Training model with n_factors=200, n_epochs=25, and reg_all=0.1\n",
      "RMSE: 0.8734\n",
      "MAE:  0.6719\n",
      "RMSE: 0.873362002636181, MAE: 0.6718557789217601\n",
      "Training model with n_factors=200, n_epochs=25, and reg_all=0.2\n",
      "RMSE: 0.8787\n",
      "MAE:  0.6765\n",
      "RMSE: 0.8787262864661534, MAE: 0.6764606067495469\n",
      "Training model with n_factors=200, n_epochs=30, and reg_all=0.02\n",
      "RMSE: 0.8820\n",
      "MAE:  0.6789\n",
      "RMSE: 0.8819526840772105, MAE: 0.6788818399933767\n",
      "Training model with n_factors=200, n_epochs=30, and reg_all=0.1\n",
      "RMSE: 0.8705\n",
      "MAE:  0.6693\n",
      "RMSE: 0.8705338105689381, MAE: 0.6693126231352969\n",
      "Training model with n_factors=200, n_epochs=30, and reg_all=0.2\n",
      "RMSE: 0.8774\n",
      "MAE:  0.6752\n",
      "RMSE: 0.877362230624235, MAE: 0.6751631004658347\n",
      "Best RMSE: 0.8705338105689381\n",
      "Best MAE: 0.6693126231352969\n"
     ]
    }
   ],
   "source": [
    "from surprise import SVD\n",
    "from surprise import Dataset, Reader\n",
    "from surprise.model_selection import train_test_split\n",
    "from surprise import accuracy\n",
    "import numpy as np\n",
    "\n",
    "# Create a Surprise dataset from the ratings data in ratings_df\n",
    "reader = Reader(rating_scale=(1, 5))\n",
    "data = Dataset.load_from_df(ratings_df[['userId', 'movieId', 'rating']], reader)\n",
    "\n",
    "# Split the data into training and testing sets\n",
    "trainset, testset = train_test_split(data, test_size=0.2, random_state=42)\n",
    "\n",
    "# Define hyperparameter search space\n",
    "n_factors = [100, 150, 200]\n",
    "n_epochs = [20, 25, 30]\n",
    "reg_all = [0.02, 0.1, 0.2]\n",
    "\n",
    "best_rmse = np.inf\n",
    "best_mae = np.inf\n",
    "best_model = None\n",
    "\n",
    "# Perform a manual grid search\n",
    "for n in n_factors:\n",
    "    for epoch in n_epochs:\n",
    "        for reg in reg_all:\n",
    "            print(f\"Training model with n_factors={n}, n_epochs={epoch}, and reg_all={reg}\")\n",
    "            # Initialize the SVD algorithm\n",
    "            surprise_model = SVD(n_factors=n, n_epochs=epoch, reg_all=reg, random_state=42)\n",
    "\n",
    "            # Train the model on the training set\n",
    "            surprise_model.fit(trainset)\n",
    "\n",
    "            # Make predictions on the test set\n",
    "            surprise_preds = surprise_model.test(testset)\n",
    "\n",
    "            # Evaluate the model's performance using RMSE (Root Mean Squared Error)\n",
    "            rmse = accuracy.rmse(surprise_preds)\n",
    "\n",
    "            # Calculate MAE (Mean Absolute Error)\n",
    "            mae = accuracy.mae(surprise_preds)\n",
    "\n",
    "            print(f'RMSE: {rmse}, MAE: {mae}')\n",
    "\n",
    "            # Check if this model's RMSE and MAE are better than the best so far\n",
    "            if rmse < best_rmse and mae < best_mae:\n",
    "                best_rmse = rmse\n",
    "                best_mae = mae\n",
    "                best_model = surprise_model\n",
    "\n",
    "print(f'Best RMSE: {best_rmse}')\n",
    "print(f'Best MAE: {best_mae}')"
   ]
  },
  {
   "cell_type": "code",
   "execution_count": null,
   "id": "82de3fc0",
   "metadata": {},
   "outputs": [],
   "source": []
  }
 ],
 "metadata": {
  "kernelspec": {
   "display_name": "Python 3 (ipykernel)",
   "language": "python",
   "name": "python3"
  },
  "language_info": {
   "codemirror_mode": {
    "name": "ipython",
    "version": 3
   },
   "file_extension": ".py",
   "mimetype": "text/x-python",
   "name": "python",
   "nbconvert_exporter": "python",
   "pygments_lexer": "ipython3",
   "version": "3.8.18"
  }
 },
 "nbformat": 4,
 "nbformat_minor": 5
}
