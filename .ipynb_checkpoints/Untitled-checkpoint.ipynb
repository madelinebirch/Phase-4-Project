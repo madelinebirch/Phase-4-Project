{
 "cells": [
  {
   "cell_type": "markdown",
   "id": "101b59de",
   "metadata": {},
   "source": [
    "# Recommendation System "
   ]
  },
  {
   "cell_type": "code",
   "execution_count": 1,
   "id": "b4e633b9",
   "metadata": {},
   "outputs": [],
   "source": [
    "import pandas as pd\n",
    "\n",
    "ratings_df = pd.read_csv('Data/ratings.csv')\n",
    "movies_df = pd.read_csv('Data/movies.csv')\n",
    "tags_df = pd.read_csv('Data/tags.csv')"
   ]
  },
  {
   "cell_type": "code",
   "execution_count": 2,
   "id": "9ad35746",
   "metadata": {},
   "outputs": [],
   "source": [
    "# Using Pandas pivot table to create the user-item interaction matrix\n",
    "user_item_matrix = ratings_df.pivot_table(index='userId', columns='movieId', values='rating')\n",
    "user_item_matrix"
   ]
  },
  {
   "cell_type": "code",
   "execution_count": 3,
   "id": "db35ca1d",
   "metadata": {},
   "outputs": [],
   "source": [
    "ratings_df.head()"
   ]
  },
  {
   "cell_type": "code",
   "execution_count": 4,
   "id": "f7d7c532",
   "metadata": {},
   "outputs": [],
   "source": [
    "ratings_df.shape"
   ]
  },
  {
   "cell_type": "code",
   "execution_count": 5,
   "id": "9a264bf4",
   "metadata": {},
   "outputs": [],
   "source": [
    "ratings_df.describe()"
   ]
  },
  {
   "cell_type": "code",
   "execution_count": 6,
   "id": "b246a16c",
   "metadata": {},
   "outputs": [],
   "source": [
    "movies_df.columns"
   ]
  },
  {
   "cell_type": "code",
   "execution_count": 7,
   "id": "15fab099",
   "metadata": {},
   "outputs": [],
   "source": [
    "tags_df.columns"
   ]
  },
  {
   "cell_type": "code",
   "execution_count": 8,
   "id": "52ff5cfa",
   "metadata": {},
   "outputs": [],
   "source": [
    "#Checking NaN counts in ratings_df\n",
    "nan_count = ratings_df.isna().sum()\n",
    "nan_count"
   ]
  },
  {
   "cell_type": "markdown",
   "id": "3ce9514a",
   "metadata": {},
   "source": [
    "### Simple rule-based model"
   ]
  },
  {
   "cell_type": "code",
   "execution_count": 9,
   "id": "7e684133",
   "metadata": {},
   "outputs": [],
   "source": [
    "# Assuming you have a DataFrame called 'ratings_df' with columns 'userId' and 'rating'\n",
    "\n",
    "# Calculate the average rating for each user\n",
    "average_user_ratings = ratings_df.groupby('userId')['rating'].mean().reset_index()\n",
    "average_user_ratings.columns = ['userId', 'avg_rating']\n",
    "\n",
    "# Merge the average user ratings back into the original DataFrame\n",
    "baseline_model = ratings_df.merge(average_user_ratings, on='userId', how='left')\n",
    "\n",
    "# Now, you can recommend items to users based on the average user ratings\n",
    "# For example, you can recommend items with ratings above the user's average rating\n",
    "\n",
    "# Example: Recommend items with ratings above the user's average rating\n",
    "user_id = 1  # Replace with the user ID you want to recommend items to\n",
    "user_avg_rating = baseline_model[baseline_model['userId'] == user_id]['avg_rating'].values[0]\n",
    "recommended_items = baseline_model[baseline_model['rating'] > user_avg_rating]\n",
    "\n",
    "# Sort recommended items by rating in descending order\n",
    "recommended_items = recommended_items.sort_values(by='rating', ascending=False)\n",
    "\n",
    "# Print the recommended items\n",
    "recommended_items"
   ]
  },
  {
   "cell_type": "markdown",
   "id": "5d9a2b2f",
   "metadata": {},
   "source": [
    "### Second model: matrix factorization with SVD"
   ]
  },
  {
   "cell_type": "code",
   "execution_count": 10,
   "id": "490760a7",
   "metadata": {},
   "outputs": [],
   "source": [
    "# Create a user-item rating matrix\n",
    "user_item_matrix = ratings_df.pivot(index='userId', columns='movieId', values='rating').fillna(0)\n",
    "\n",
    "# Convert the DataFrame to a NumPy array\n",
    "R = user_item_matrix.values\n",
    "\n",
    "# Number of latent factors\n",
    "num_latent_factors = 10\n",
    "\n",
    "# Perform SVD\n",
    "U, sigma, Vt = svds(R, k=num_latent_factors)\n",
    "\n",
    "# Convert sigma to a diagonal matrix\n",
    "sigma = np.diag(sigma)\n",
    "\n",
    "# Reconstruct the original matrix\n",
    "predicted_ratings = np.dot(np.dot(U, sigma), Vt)\n",
    "\n",
    "# Convert the reconstructed matrix back to a DataFrame\n",
    "predicted_ratings_df = pd.DataFrame(predicted_ratings, columns=user_item_matrix.columns, index=user_item_matrix.index)\n",
    "\n",
    "# Now, predicted_ratings_df contains the predicted ratings for each user and movie\n"
   ]
  },
  {
   "cell_type": "code",
   "execution_count": 11,
   "id": "d73b1aa7",
   "metadata": {},
   "outputs": [],
   "source": [
    "from sklearn.metrics import mean_squared_error\n",
    "\n",
    "# Assuming you have the predicted_ratings_df DataFrame with predicted ratings\n",
    "# And you have a user-item rating matrix user_item_matrix with actual ratings\n",
    "\n",
    "# Convert the predicted ratings DataFrame to a NumPy array\n",
    "predicted_ratings = predicted_ratings_df.values\n",
    "\n",
    "# Calculate the RMSE\n",
    "rmse = np.sqrt(mean_squared_error(user_item_matrix.values, predicted_ratings))\n",
    "print(\"Root Mean Squared Error (RMSE):\", rmse)\n"
   ]
  },
  {
   "cell_type": "code",
   "execution_count": 12,
   "id": "e10afc45",
   "metadata": {},
   "outputs": [],
   "source": [
    "from sklearn.metrics import mean_absolute_error\n",
    "\n",
    "# Assuming you have the predicted_ratings_df DataFrame with predicted ratings\n",
    "# And you have a user-item rating matrix user_item_matrix with actual ratings\n",
    "\n",
    "# Convert the predicted ratings DataFrame to a NumPy array\n",
    "predicted_ratings = predicted_ratings_df.values\n",
    "\n",
    "# Calculate the MAE\n",
    "mae = mean_absolute_error(user_item_matrix.values, predicted_ratings)\n",
    "print(\"Mean Absolute Error (MAE):\", mae)\n"
   ]
  },
  {
   "cell_type": "code",
   "execution_count": null,
   "id": "27f4a64a",
   "metadata": {},
   "outputs": [],
   "source": []
  }
 ],
 "metadata": {
  "kernelspec": {
   "display_name": "Python 3 (ipykernel)",
   "language": "python",
   "name": "python3"
  },
  "language_info": {
   "codemirror_mode": {
    "name": "ipython",
    "version": 3
   },
   "file_extension": ".py",
   "mimetype": "text/x-python",
   "name": "python",
   "nbconvert_exporter": "python",
   "pygments_lexer": "ipython3",
   "version": "3.8.18"
  }
 },
 "nbformat": 4,
 "nbformat_minor": 5
}
